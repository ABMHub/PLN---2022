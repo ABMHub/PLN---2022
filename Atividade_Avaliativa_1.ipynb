{
  "nbformat": 4,
  "nbformat_minor": 0,
  "metadata": {
    "colab": {
      "name": "Atividade_Avaliativa_1.ipynb",
      "provenance": [],
      "authorship_tag": "ABX9TyOBbxeGG8wADs/qA+E7B/GU",
      "include_colab_link": true
    },
    "kernelspec": {
      "name": "python3",
      "display_name": "Python 3"
    },
    "language_info": {
      "name": "python"
    }
  },
  "cells": [
    {
      "cell_type": "markdown",
      "metadata": {
        "id": "view-in-github",
        "colab_type": "text"
      },
      "source": [
        "<a href=\"https://colab.research.google.com/github/Tong00020/PLN---2022/blob/main/Atividade_Avaliativa_1.ipynb\" target=\"_parent\"><img src=\"https://colab.research.google.com/assets/colab-badge.svg\" alt=\"Open In Colab\"/></a>"
      ]
    },
    {
      "cell_type": "markdown",
      "source": [
        "Aluna: Tong Zhou - 190038764\n"
      ],
      "metadata": {
        "id": "-jNc50PvtY9A"
      }
    },
    {
      "cell_type": "markdown",
      "source": [
        "# Estudo"
      ],
      "metadata": {
        "id": "4vdtCuKHTMxW"
      }
    },
    {
      "cell_type": "markdown",
      "source": [
        "Importar primeiro antes de executar qualquer comando"
      ],
      "metadata": {
        "id": "RzT7Hsmz7kwG"
      }
    },
    {
      "cell_type": "code",
      "source": [
        "import re\n",
        "import pandas as pd"
      ],
      "metadata": {
        "id": "B0lUdNGTmyz3"
      },
      "execution_count": null,
      "outputs": []
    },
    {
      "cell_type": "code",
      "source": [
        "test = pd.read_csv('dosp_29012016.csv')"
      ],
      "metadata": {
        "id": "0eskVtS0HvOl"
      },
      "execution_count": null,
      "outputs": []
    },
    {
      "cell_type": "code",
      "source": [
        "test.head(5)"
      ],
      "metadata": {
        "colab": {
          "base_uri": "https://localhost:8080/",
          "height": 426
        },
        "id": "4szsPCEK5zyj",
        "outputId": "f3187cf4-8a4b-4f15-96e4-61024db8485d"
      },
      "execution_count": null,
      "outputs": [
        {
          "output_type": "execute_result",
          "data": {
            "text/plain": [
              "             ID                  Data Retranca Tipo do Conteúdo  \\\n",
              "0  2016/01/29/0  2016-01-29T00:00:00Z  efmaadm       LICITAÇÕES   \n",
              "1  2016/01/29/1  2016-01-29T00:00:00Z  efaaadm       LICITAÇÕES   \n",
              "2  2016/01/29/2  2016-01-29T00:00:00Z  efmaadm       LICITAÇÕES   \n",
              "3  2016/01/29/3  2016-01-29T00:00:00Z  epaaadm       LICITAÇÕES   \n",
              "4  2016/01/29/4  2016-01-29T00:00:00Z  epwbadm       LICITAÇÕES   \n",
              "\n",
              "                       Secretaria                           Orgão  \\\n",
              "0                               -                               -   \n",
              "1                         CULTURA          GABINETE DO SECRETÁRIO   \n",
              "2                               -                               -   \n",
              "3                           SAÚDE          GABINETE DO SECRETÁRIO   \n",
              "4  AUTARQUIA HOSPITALAR MUNICIPAL  DIRETORIA DE GESTÃO DE PESSOAL   \n",
              "\n",
              "                                               Texto Unnamed: 7 Unnamed: 8  \\\n",
              "0  ((TITULO))Extrato de Termo de Aditamento\\r\\n((...        NaN        NaN   \n",
              "1  ((TITULO))CONTRAÇÃO DE NATUREZA ARTÍSTICA\\r\\n\\...        NaN        NaN   \n",
              "2  ((TITULO))Extrato de Termo de Aditamento\\r\\n((...        NaN        NaN   \n",
              "3  ((TITULO))PROCESSO: 2015-0.272.291-3\\r\\n((TEXT...        NaN        NaN   \n",
              "4  ((TITULO))PENALIDADE\\r\\n((TEXTO))((NG))PROCESS...        NaN        NaN   \n",
              "\n",
              "  Unnamed: 9 Unnamed: 10 Unnamed: 11 Unnamed: 12  \n",
              "0        NaN         NaN         NaN         NaN  \n",
              "1        NaN         NaN         NaN         NaN  \n",
              "2        NaN         NaN         NaN         NaN  \n",
              "3        NaN         NaN         NaN         NaN  \n",
              "4        NaN         NaN         NaN         NaN  "
            ],
            "text/html": [
              "\n",
              "  <div id=\"df-126e1c1a-5677-4dde-bf90-58a384c30aa2\">\n",
              "    <div class=\"colab-df-container\">\n",
              "      <div>\n",
              "<style scoped>\n",
              "    .dataframe tbody tr th:only-of-type {\n",
              "        vertical-align: middle;\n",
              "    }\n",
              "\n",
              "    .dataframe tbody tr th {\n",
              "        vertical-align: top;\n",
              "    }\n",
              "\n",
              "    .dataframe thead th {\n",
              "        text-align: right;\n",
              "    }\n",
              "</style>\n",
              "<table border=\"1\" class=\"dataframe\">\n",
              "  <thead>\n",
              "    <tr style=\"text-align: right;\">\n",
              "      <th></th>\n",
              "      <th>ID</th>\n",
              "      <th>Data</th>\n",
              "      <th>Retranca</th>\n",
              "      <th>Tipo do Conteúdo</th>\n",
              "      <th>Secretaria</th>\n",
              "      <th>Orgão</th>\n",
              "      <th>Texto</th>\n",
              "      <th>Unnamed: 7</th>\n",
              "      <th>Unnamed: 8</th>\n",
              "      <th>Unnamed: 9</th>\n",
              "      <th>Unnamed: 10</th>\n",
              "      <th>Unnamed: 11</th>\n",
              "      <th>Unnamed: 12</th>\n",
              "    </tr>\n",
              "  </thead>\n",
              "  <tbody>\n",
              "    <tr>\n",
              "      <th>0</th>\n",
              "      <td>2016/01/29/0</td>\n",
              "      <td>2016-01-29T00:00:00Z</td>\n",
              "      <td>efmaadm</td>\n",
              "      <td>LICITAÇÕES</td>\n",
              "      <td>-</td>\n",
              "      <td>-</td>\n",
              "      <td>((TITULO))Extrato de Termo de Aditamento\\r\\n((...</td>\n",
              "      <td>NaN</td>\n",
              "      <td>NaN</td>\n",
              "      <td>NaN</td>\n",
              "      <td>NaN</td>\n",
              "      <td>NaN</td>\n",
              "      <td>NaN</td>\n",
              "    </tr>\n",
              "    <tr>\n",
              "      <th>1</th>\n",
              "      <td>2016/01/29/1</td>\n",
              "      <td>2016-01-29T00:00:00Z</td>\n",
              "      <td>efaaadm</td>\n",
              "      <td>LICITAÇÕES</td>\n",
              "      <td>CULTURA</td>\n",
              "      <td>GABINETE DO SECRETÁRIO</td>\n",
              "      <td>((TITULO))CONTRAÇÃO DE NATUREZA ARTÍSTICA\\r\\n\\...</td>\n",
              "      <td>NaN</td>\n",
              "      <td>NaN</td>\n",
              "      <td>NaN</td>\n",
              "      <td>NaN</td>\n",
              "      <td>NaN</td>\n",
              "      <td>NaN</td>\n",
              "    </tr>\n",
              "    <tr>\n",
              "      <th>2</th>\n",
              "      <td>2016/01/29/2</td>\n",
              "      <td>2016-01-29T00:00:00Z</td>\n",
              "      <td>efmaadm</td>\n",
              "      <td>LICITAÇÕES</td>\n",
              "      <td>-</td>\n",
              "      <td>-</td>\n",
              "      <td>((TITULO))Extrato de Termo de Aditamento\\r\\n((...</td>\n",
              "      <td>NaN</td>\n",
              "      <td>NaN</td>\n",
              "      <td>NaN</td>\n",
              "      <td>NaN</td>\n",
              "      <td>NaN</td>\n",
              "      <td>NaN</td>\n",
              "    </tr>\n",
              "    <tr>\n",
              "      <th>3</th>\n",
              "      <td>2016/01/29/3</td>\n",
              "      <td>2016-01-29T00:00:00Z</td>\n",
              "      <td>epaaadm</td>\n",
              "      <td>LICITAÇÕES</td>\n",
              "      <td>SAÚDE</td>\n",
              "      <td>GABINETE DO SECRETÁRIO</td>\n",
              "      <td>((TITULO))PROCESSO: 2015-0.272.291-3\\r\\n((TEXT...</td>\n",
              "      <td>NaN</td>\n",
              "      <td>NaN</td>\n",
              "      <td>NaN</td>\n",
              "      <td>NaN</td>\n",
              "      <td>NaN</td>\n",
              "      <td>NaN</td>\n",
              "    </tr>\n",
              "    <tr>\n",
              "      <th>4</th>\n",
              "      <td>2016/01/29/4</td>\n",
              "      <td>2016-01-29T00:00:00Z</td>\n",
              "      <td>epwbadm</td>\n",
              "      <td>LICITAÇÕES</td>\n",
              "      <td>AUTARQUIA HOSPITALAR MUNICIPAL</td>\n",
              "      <td>DIRETORIA DE GESTÃO DE PESSOAL</td>\n",
              "      <td>((TITULO))PENALIDADE\\r\\n((TEXTO))((NG))PROCESS...</td>\n",
              "      <td>NaN</td>\n",
              "      <td>NaN</td>\n",
              "      <td>NaN</td>\n",
              "      <td>NaN</td>\n",
              "      <td>NaN</td>\n",
              "      <td>NaN</td>\n",
              "    </tr>\n",
              "  </tbody>\n",
              "</table>\n",
              "</div>\n",
              "      <button class=\"colab-df-convert\" onclick=\"convertToInteractive('df-126e1c1a-5677-4dde-bf90-58a384c30aa2')\"\n",
              "              title=\"Convert this dataframe to an interactive table.\"\n",
              "              style=\"display:none;\">\n",
              "        \n",
              "  <svg xmlns=\"http://www.w3.org/2000/svg\" height=\"24px\"viewBox=\"0 0 24 24\"\n",
              "       width=\"24px\">\n",
              "    <path d=\"M0 0h24v24H0V0z\" fill=\"none\"/>\n",
              "    <path d=\"M18.56 5.44l.94 2.06.94-2.06 2.06-.94-2.06-.94-.94-2.06-.94 2.06-2.06.94zm-11 1L8.5 8.5l.94-2.06 2.06-.94-2.06-.94L8.5 2.5l-.94 2.06-2.06.94zm10 10l.94 2.06.94-2.06 2.06-.94-2.06-.94-.94-2.06-.94 2.06-2.06.94z\"/><path d=\"M17.41 7.96l-1.37-1.37c-.4-.4-.92-.59-1.43-.59-.52 0-1.04.2-1.43.59L10.3 9.45l-7.72 7.72c-.78.78-.78 2.05 0 2.83L4 21.41c.39.39.9.59 1.41.59.51 0 1.02-.2 1.41-.59l7.78-7.78 2.81-2.81c.8-.78.8-2.07 0-2.86zM5.41 20L4 18.59l7.72-7.72 1.47 1.35L5.41 20z\"/>\n",
              "  </svg>\n",
              "      </button>\n",
              "      \n",
              "  <style>\n",
              "    .colab-df-container {\n",
              "      display:flex;\n",
              "      flex-wrap:wrap;\n",
              "      gap: 12px;\n",
              "    }\n",
              "\n",
              "    .colab-df-convert {\n",
              "      background-color: #E8F0FE;\n",
              "      border: none;\n",
              "      border-radius: 50%;\n",
              "      cursor: pointer;\n",
              "      display: none;\n",
              "      fill: #1967D2;\n",
              "      height: 32px;\n",
              "      padding: 0 0 0 0;\n",
              "      width: 32px;\n",
              "    }\n",
              "\n",
              "    .colab-df-convert:hover {\n",
              "      background-color: #E2EBFA;\n",
              "      box-shadow: 0px 1px 2px rgba(60, 64, 67, 0.3), 0px 1px 3px 1px rgba(60, 64, 67, 0.15);\n",
              "      fill: #174EA6;\n",
              "    }\n",
              "\n",
              "    [theme=dark] .colab-df-convert {\n",
              "      background-color: #3B4455;\n",
              "      fill: #D2E3FC;\n",
              "    }\n",
              "\n",
              "    [theme=dark] .colab-df-convert:hover {\n",
              "      background-color: #434B5C;\n",
              "      box-shadow: 0px 1px 3px 1px rgba(0, 0, 0, 0.15);\n",
              "      filter: drop-shadow(0px 1px 2px rgba(0, 0, 0, 0.3));\n",
              "      fill: #FFFFFF;\n",
              "    }\n",
              "  </style>\n",
              "\n",
              "      <script>\n",
              "        const buttonEl =\n",
              "          document.querySelector('#df-126e1c1a-5677-4dde-bf90-58a384c30aa2 button.colab-df-convert');\n",
              "        buttonEl.style.display =\n",
              "          google.colab.kernel.accessAllowed ? 'block' : 'none';\n",
              "\n",
              "        async function convertToInteractive(key) {\n",
              "          const element = document.querySelector('#df-126e1c1a-5677-4dde-bf90-58a384c30aa2');\n",
              "          const dataTable =\n",
              "            await google.colab.kernel.invokeFunction('convertToInteractive',\n",
              "                                                     [key], {});\n",
              "          if (!dataTable) return;\n",
              "\n",
              "          const docLinkHtml = 'Like what you see? Visit the ' +\n",
              "            '<a target=\"_blank\" href=https://colab.research.google.com/notebooks/data_table.ipynb>data table notebook</a>'\n",
              "            + ' to learn more about interactive tables.';\n",
              "          element.innerHTML = '';\n",
              "          dataTable['output_type'] = 'display_data';\n",
              "          await google.colab.output.renderOutput(dataTable, element);\n",
              "          const docLink = document.createElement('div');\n",
              "          docLink.innerHTML = docLinkHtml;\n",
              "          element.appendChild(docLink);\n",
              "        }\n",
              "      </script>\n",
              "    </div>\n",
              "  </div>\n",
              "  "
            ]
          },
          "metadata": {},
          "execution_count": 5
        }
      ]
    },
    {
      "cell_type": "code",
      "source": [
        "ex1 = '((TITULO))Extrato de Termo de Aditamento\\n((TEXTO))((NG))2013-0.009.972-7((CL)). OBJETO: Prorrogação Contratual da Escola de Dança de São Paulo, referente aos meses de janeiro a março de 2016. CONTRATANTE:\\n((NG))FTMSP/EDSP((CL)) e CONTRATADO: Sandra Lúcia Gomes; Função: Oficinas Práticas de Dança; Valor Total R$ 14.100,00. Termo de Aditamento nº 021/2016.'\n",
        "ex2 = '((TITULO)) DIRETORIA REGIONAL DE EDUCAÇÃO SÃO MATEUS DESPACHO DA DIRETORA REGIONAL\\n((TEXTO))((NG))2014-0.140.779-6\\n((CL)),Centro Social Nossa Senhora do Bom Parto, inscrito no CNPJ: 62.264.494/0001 - 79, aditamento de convênio – CEI Mãe da Esperança. I - À vista dos elementos constantes dos autos, em especial as manifestações da Assistente Técnica de Engenharia, do Setor de Demanda, do Setor de Convênios, do Setor de Contabilidade, da Supervisão Escolar, do Assistente Técnico Jurídico da Diretoria Regional de Educação São Mateus, que acolho e adoto como razões de decidir, \\n((NG))AUTORIZO\\n((CL)), com fundamento nas Portarias SME nº 4.772/15, nº 3.477/2011 e alterações posteriores, o aditamento do Termo de Convênio nº 172/SME/2014-RI, firmado com a entidade convenente denominada “Centro Social Nossa Senhora do Bom Parto”, inscrito no CNPJ sob nº 62.264.494/0001-79, para funcionamento do CEI Mãe da Esperança, objetivando a redução do atendimento no berçário e da capacidade total de atendimento para 240 crianças, na faixa etária de 1 a 3 anos, sendo 45 de berçário e mediante repasse mensal de R$ 114.806,40 e atualização do per capita nos termos da Portaria 3477/11 e alterações posteriores II - O aditamento será formalizado conforme a minuta de fls. 265; III - As despesas decorrentes da presente autorização onerarão a dotação orçamentária nº 16.23.12.365.3010.2.825.3.3.50.39.00.00; IV - A documentação exigida pela Portaria SME nº 3.477/2011 deverá estar em vigor no momento da efetiva celebração do aditamento.'\n",
        "ex3 = '((TITULO))INTIMAÇÃO\\n((TEXTO))((NG))2015-0.256.186-3((CL)) - Copatrocino para produção do livro catálogo da exposição Torres Garcia.\\nI - Diante dos elementos constantes deste Processo Administrativo, em especial do parecer contábil de fls. 45/46, com fundamento no artigo 17 do Decreto Municipal nº 51.300/10 e na competência a mim delegada através da Portaria nº 74/10-SMC-G, fica a empresa ((NG))IPSIS GRÁFICA E EDITORA SA((CL)), inscrita no CNPJ sob o nº 61.407.078/0001-10, ((NG))INTIMADA((CL)) a apresentar esclarecimentos e/ou comprovação de regularização das pendências apontadas na prestação de contas referente ao Termo de Copatrocino nº 05/2015 firmado com a Secretaria Municipal de Cultura, no prazo de 30 dias, sob pena de adoção de procedimento visando a aplicação das sanções cabíveis.\\nII - Fica, franqueada, desde já, na Biblioteca Mário de Andrade, vista dos autos para consulta.'\n",
        "ex4 = '((TITULO))PENALIDADE\\n((TEXTO))((NG))2015-0.243.381-4((CL)) - Pagamento referente a aquisição de cadeados.\\nI – À vista dos elementos coligidos ao presente, nos termos dos artigos 54 e 57 do Decreto Municipal n° 44.279/03 e o artigo 14 do Decreto Municipal n° 51.194/2010, e na competência a mim delegada pela Portaria nº 40/2005 SMC-G, ((NG))APLICO((CL)) à empresa ((NG))PARADA OBRIGATÓRIA COMÉRCIO E IMPORTAÇÃO DE ELETRÔNICOS LTDA. - ME((CL))., inscrita no CNPJ sob o nº 13.446.995/0001-60, a penalidade de multa de 0,5% (meio por cento), por dia de atraso, sobre o valor dos bens não entregues no prazo, conforme previsto no item “i” do Anexo de Empenho nº 83620/2015, no total de R$ 58,49 (cinquenta e oito reais e quarenta e nove centavos), em decorrência do atraso de 39 (trinta e nove) dias na entrega do material.\\nII – O representante legal da empresa fica ((NG))NOTIFICADO((CL)) para, querendo, apresentar recurso desta decisão no prazo de 05 (cinco) dias úteis, franqueada, desde já, na Diretoria Administrativa da Biblioteca Mário de Andrade, vista dos autos para esse fim.'\n",
        "ex5 = '((TITULO))DESPACHO DO DIRETOR REGIONAL DE EDUCAÇÃO-DRE-PE\\n((TEXTO))2014-0.159.895-8-I. À vista dos elementos que instruem o presente, em especial as manifestações dos Setores de Demanda Escolar, Prédios e Equipamentos, Supervisão Escolar, Convênios, Contabilidade, Diretoria de Planejamento e Assessoria Jurídica desta Diretoria Regional de Educação Penha, que acolho, e, com fundamento na Portaria 4.772/2015, ((NG))AUTORIZO((CL)), nos termos na Portaria nº 3.477/2011 e suas alterações posteriores, o aditamento de capacidade do Termo de Convênio nº 195/SME/2014 – RI, com o ((NG))Centro Social Nossa Senhora do Bom Parto((CL)), inscrito no CNPJ nº 62.264.494/0001-79, para atendimento a 175 crianças, na faixa etária de 0 a 03 anos, sendo 53 de berçário, no ((NG))CEI Maria de Belém((CL)), mediante repasse mensal de R$ 91.719,40 (noventa e um mil, setecentos e dezenove reais e quarenta centavos), a partir de 01/02/2016.II. As despesas decorrentes da celebração, ora autorizada, onerarão a dotação orçamentária n16.17.12.365.3010.2825.3.3.50.39.00.00.III-A documentação exigida pela Portaria nº. 3.477/11 deverá estar em vigor no momento da lavratura.'"
      ],
      "metadata": {
        "id": "bMeFZW-XHV-Q"
      },
      "execution_count": null,
      "outputs": []
    },
    {
      "cell_type": "code",
      "execution_count": null,
      "metadata": {
        "id": "7BT7xK32VYIF"
      },
      "outputs": [],
      "source": [
        "ex1 = '((TITULO))Extrato de Termo de Aditamento\\n((TEXTO))((NG))2013-0.009.972-7((CL)). OBJETO: Prorrogação Contratual da Escola de Dança de São Paulo, referente aos meses de janeiro a março de 2016. CONTRATANTE:\\n((NG))FTMSP/EDSP((CL)) e CONTRATADO: Sandra Lúcia Gomes; Função: Oficinas Práticas de Dança; Valor Total R$ 14.100,00. Termo de Aditamento nº 021/2016.'"
      ]
    },
    {
      "cell_type": "code",
      "source": [
        "ex2 = '((TITULO)) DIRETORIA REGIONAL DE EDUCAÇÃO SÃO MATEUS DESPACHO DA DIRETORA REGIONAL\\n((TEXTO))((NG))2014-0.140.779-6\\n((CL)),Centro Social Nossa Senhora do Bom Parto, inscrito no CNPJ: 62.264.494/0001 - 79, aditamento de convênio – CEI Mãe da Esperança. I - À vista dos elementos constantes dos autos, em especial as manifestações da Assistente Técnica de Engenharia, do Setor de Demanda, do Setor de Convênios, do Setor de Contabilidade, da Supervisão Escolar, do Assistente Técnico Jurídico da Diretoria Regional de Educação São Mateus, que acolho e adoto como razões de decidir, \\n((NG))AUTORIZO\\n((CL)), com fundamento nas Portarias SME nº 4.772/15, nº 3.477/2011 e alterações posteriores, o aditamento do Termo de Convênio nº 172/SME/2014-RI, firmado com a entidade convenente denominada “Centro Social Nossa Senhora do Bom Parto”, inscrito no CNPJ sob nº 62.264.494/0001-79, para funcionamento do CEI Mãe da Esperança, objetivando a redução do atendimento no berçário e da capacidade total de atendimento para 240 crianças, na faixa etária de 1 a 3 anos, sendo 45 de berçário e mediante repasse mensal de R$ 114.806,40 e atualização do per capita nos termos da Portaria 3477/11 e alterações posteriores II - O aditamento será formalizado conforme a minuta de fls. 265; III - As despesas decorrentes da presente autorização onerarão a dotação orçamentária nº 16.23.12.365.3010.2.825.3.3.50.39.00.00; IV - A documentação exigida pela Portaria SME nº 3.477/2011 deverá estar em vigor no momento da efetiva celebração do aditamento.'"
      ],
      "metadata": {
        "id": "aBH43Vx9nUm0"
      },
      "execution_count": null,
      "outputs": []
    },
    {
      "cell_type": "code",
      "source": [
        "ex3 = '((TITULO))INTIMAÇÃO\\n((TEXTO))((NG))2015-0.256.186-3((CL)) - Copatrocino para produção do livro catálogo da exposição Torres Garcia.\\nI - Diante dos elementos constantes deste Processo Administrativo, em especial do parecer contábil de fls. 45/46, com fundamento no artigo 17 do Decreto Municipal nº 51.300/10 e na competência a mim delegada através da Portaria nº 74/10-SMC-G, fica a empresa ((NG))IPSIS GRÁFICA E EDITORA SA((CL)), inscrita no CNPJ sob o nº 61.407.078/0001-10, ((NG))INTIMADA((CL)) a apresentar esclarecimentos e/ou comprovação de regularização das pendências apontadas na prestação de contas referente ao Termo de Copatrocino nº 05/2015 firmado com a Secretaria Municipal de Cultura, no prazo de 30 dias, sob pena de adoção de procedimento visando a aplicação das sanções cabíveis.\\nII - Fica, franqueada, desde já, na Biblioteca Mário de Andrade, vista dos autos para consulta.'"
      ],
      "metadata": {
        "id": "sb7YFroJnbJU"
      },
      "execution_count": null,
      "outputs": []
    },
    {
      "cell_type": "code",
      "source": [
        "ex4 = '((TITULO))PENALIDADE\\n((TEXTO))((NG))2015-0.243.381-4((CL)) - Pagamento referente a aquisição de cadeados.\\nI – À vista dos elementos coligidos ao presente, nos termos dos artigos 54 e 57 do Decreto Municipal n° 44.279/03 e o artigo 14 do Decreto Municipal n° 51.194/2010, e na competência a mim delegada pela Portaria nº 40/2005 SMC-G, ((NG))APLICO((CL)) à empresa ((NG))PARADA OBRIGATÓRIA COMÉRCIO E IMPORTAÇÃO DE ELETRÔNICOS LTDA. - ME((CL))., inscrita no CNPJ sob o nº 13.446.995/0001-60, a penalidade de multa de 0,5% (meio por cento), por dia de atraso, sobre o valor dos bens não entregues no prazo, conforme previsto no item “i” do Anexo de Empenho nº 83620/2015, no total de R$ 58,49 (cinquenta e oito reais e quarenta e nove centavos), em decorrência do atraso de 39 (trinta e nove) dias na entrega do material.\\nII – O representante legal da empresa fica ((NG))NOTIFICADO((CL)) para, querendo, apresentar recurso desta decisão no prazo de 05 (cinco) dias úteis, franqueada, desde já, na Diretoria Administrativa da Biblioteca Mário de Andrade, vista dos autos para esse fim.'"
      ],
      "metadata": {
        "id": "7zLy9E4FncU0"
      },
      "execution_count": null,
      "outputs": []
    },
    {
      "cell_type": "code",
      "source": [
        "ex5 = '((TITULO))DESPACHO DO DIRETOR REGIONAL DE EDUCAÇÃO-DRE-PE\\n((TEXTO))2014-0.159.895-8-I. À vista dos elementos que instruem o presente, em especial as manifestações dos Setores de Demanda Escolar, Prédios e Equipamentos, Supervisão Escolar, Convênios, Contabilidade, Diretoria de Planejamento e Assessoria Jurídica desta Diretoria Regional de Educação Penha, que acolho, e, com fundamento na Portaria 4.772/2015, ((NG))AUTORIZO((CL)), nos termos na Portaria nº 3.477/2011 e suas alterações posteriores, o aditamento de capacidade do Termo de Convênio nº 195/SME/2014 – RI, com o ((NG))Centro Social Nossa Senhora do Bom Parto((CL)), inscrito no CNPJ nº 62.264.494/0001-79, para atendimento a 175 crianças, na faixa etária de 0 a 03 anos, sendo 53 de berçário, no ((NG))CEI Maria de Belém((CL)), mediante repasse mensal de R$ 91.719,40 (noventa e um mil, setecentos e dezenove reais e quarenta centavos), a partir de 01/02/2016.II. As despesas decorrentes da celebração, ora autorizada, onerarão a dotação orçamentária n16.17.12.365.3010.2825.3.3.50.39.00.00.III-A documentação exigida pela Portaria nº. 3.477/11 deverá estar em vigor no momento da lavratura.'"
      ],
      "metadata": {
        "id": "5mQOpDc5ndpT"
      },
      "execution_count": null,
      "outputs": []
    },
    {
      "cell_type": "code",
      "source": [
        "print(ex1)"
      ],
      "metadata": {
        "id": "RL_wZXSPmisX"
      },
      "execution_count": null,
      "outputs": []
    },
    {
      "cell_type": "code",
      "source": [
        "print(ex2)"
      ],
      "metadata": {
        "id": "IMGpn5fioh8v"
      },
      "execution_count": null,
      "outputs": []
    },
    {
      "cell_type": "code",
      "source": [
        "print(ex3)"
      ],
      "metadata": {
        "id": "mCxusUPPpDM3"
      },
      "execution_count": null,
      "outputs": []
    },
    {
      "cell_type": "code",
      "source": [
        "print(ex4)"
      ],
      "metadata": {
        "id": "jeSHBqF8pDdO"
      },
      "execution_count": null,
      "outputs": []
    },
    {
      "cell_type": "code",
      "source": [
        "print(ex5)"
      ],
      "metadata": {
        "id": "UIh_A9dOpDpO"
      },
      "execution_count": null,
      "outputs": []
    },
    {
      "cell_type": "markdown",
      "source": [
        "# 1ª atividade avaliativa"
      ],
      "metadata": {
        "id": "EzjVF_onRVVN"
      }
    },
    {
      "cell_type": "code",
      "source": [
        "tudo = ex1 + ex2 + ex3 + ex4 + ex5\n",
        "print(tudo)"
      ],
      "metadata": {
        "id": "ZblhF_Kiqknn"
      },
      "execution_count": null,
      "outputs": []
    },
    {
      "cell_type": "code",
      "source": [
        "titulo = re.findall(r\"\\(\\(TITULO\\)\\)(.*)\",tudo)\n",
        "print(titulo)"
      ],
      "metadata": {
        "colab": {
          "base_uri": "https://localhost:8080/"
        },
        "id": "ZXwC2sF8nRHv",
        "outputId": "2475acfc-d80a-47c9-b6f3-c4b7fc5b7365"
      },
      "execution_count": null,
      "outputs": [
        {
          "output_type": "stream",
          "name": "stdout",
          "text": [
            "['Extrato de Termo de Aditamento', ' DIRETORIA REGIONAL DE EDUCAÇÃO SÃO MATEUS DESPACHO DA DIRETORA REGIONAL', 'INTIMAÇÃO', 'PENALIDADE', 'DESPACHO DO DIRETOR REGIONAL DE EDUCAÇÃO-DRE-PE']\n"
          ]
        }
      ]
    },
    {
      "cell_type": "code",
      "source": [
        "code = re.findall(r\"\\(\\([NT][GE][XTO]*\\)\\)(\\d*\\D\\d*\\D\\d*\\D\\d*\\D[\\d*\\(])\",tudo)\n",
        "print(code)"
      ],
      "metadata": {
        "colab": {
          "base_uri": "https://localhost:8080/"
        },
        "id": "x3xrxYe7pPy2",
        "outputId": "85b5b1a5-b3c6-4c0b-fbad-de8f7423c298"
      },
      "execution_count": null,
      "outputs": [
        {
          "output_type": "stream",
          "name": "stdout",
          "text": [
            "['2013-0.009.972-7', '2014-0.140.779-6', '2015-0.256.186-3', '2015-0.243.381-4', '2014-0.159.895-8']\n"
          ]
        }
      ]
    },
    {
      "cell_type": "code",
      "source": [
        "valor = re.findall(r\"R\\$ [0-9]*\\D[0-9]*\\D[0-9]*\",tudo)\n",
        "print(valor)"
      ],
      "metadata": {
        "colab": {
          "base_uri": "https://localhost:8080/"
        },
        "id": "h_8h71kWpPYH",
        "outputId": "daa1021c-e2c9-4055-8c53-ae3915efef64"
      },
      "execution_count": null,
      "outputs": [
        {
          "output_type": "stream",
          "name": "stdout",
          "text": [
            "['R$ 14.100,00', 'R$ 114.806,40', 'R$ 58,49 ', 'R$ 91.719,40']\n"
          ]
        }
      ]
    },
    {
      "cell_type": "code",
      "source": [
        "testes5 = pd.read_csv('5examples.csv')"
      ],
      "metadata": {
        "id": "IoxoYLvYQ0l0"
      },
      "execution_count": null,
      "outputs": []
    },
    {
      "cell_type": "code",
      "source": [
        "testes5"
      ],
      "metadata": {
        "colab": {
          "base_uri": "https://localhost:8080/",
          "height": 354
        },
        "id": "xx-4b2RH62_h",
        "outputId": "480c94e4-74e3-4d4c-f5eb-605f3936493d"
      },
      "execution_count": null,
      "outputs": [
        {
          "output_type": "execute_result",
          "data": {
            "text/plain": [
              "               ID                  Data Retranca Tipo do Conteúdo Secretaria  \\\n",
              "0    2016/01/29/0  2016-01-29T00:00:00Z  efmaadm       LICITAÇÕES          -   \n",
              "1   2016/01/29/55  2016-01-29T00:00:00Z  eginadm       LICITAÇÕES   EDUCAÇÃO   \n",
              "2   2016/01/29/59  2016-01-29T00:00:00Z  efhaadm       LICITAÇÕES    CULTURA   \n",
              "3  2016/01/29/178  2016-01-29T00:00:00Z  efhaadm       LICITAÇÕES    CULTURA   \n",
              "4  2016/01/29/169  2016-01-29T00:00:00Z  egigadm       LICITAÇÕES   EDUCAÇÃO   \n",
              "\n",
              "                                          Orgão  \\\n",
              "0                                             -   \n",
              "1  DIRETORIA REGIONAL DE EDUCAÇÃO DE SÃO MATEUS   \n",
              "2             DEPTO BIBLIOTECA MÁRIO DE ANDRADE   \n",
              "3             DEPTO BIBLIOTECA MÁRIO DE ANDRADE   \n",
              "4       DIRETORIA REGIONAL DE EDUCAÇÃO DA PENHA   \n",
              "\n",
              "                                               Texto  \n",
              "0  ((TITULO))Extrato de Termo de Aditamento\\n((TE...  \n",
              "1  ((TITULO)) DIRETORIA REGIONAL DE EDUCAÇÃO SÃO ...  \n",
              "2  ((TITULO))INTIMAÇÃO\\n((TEXTO))((NG))2015-0.256...  \n",
              "3  ((TITULO))PENALIDADE\\n((TEXTO))((NG))2015-0.24...  \n",
              "4  ((TITULO))DESPACHO DO DIRETOR REGIONAL DE EDUC...  "
            ],
            "text/html": [
              "\n",
              "  <div id=\"df-719308c7-b967-4d8c-b682-e43a1d797042\">\n",
              "    <div class=\"colab-df-container\">\n",
              "      <div>\n",
              "<style scoped>\n",
              "    .dataframe tbody tr th:only-of-type {\n",
              "        vertical-align: middle;\n",
              "    }\n",
              "\n",
              "    .dataframe tbody tr th {\n",
              "        vertical-align: top;\n",
              "    }\n",
              "\n",
              "    .dataframe thead th {\n",
              "        text-align: right;\n",
              "    }\n",
              "</style>\n",
              "<table border=\"1\" class=\"dataframe\">\n",
              "  <thead>\n",
              "    <tr style=\"text-align: right;\">\n",
              "      <th></th>\n",
              "      <th>ID</th>\n",
              "      <th>Data</th>\n",
              "      <th>Retranca</th>\n",
              "      <th>Tipo do Conteúdo</th>\n",
              "      <th>Secretaria</th>\n",
              "      <th>Orgão</th>\n",
              "      <th>Texto</th>\n",
              "    </tr>\n",
              "  </thead>\n",
              "  <tbody>\n",
              "    <tr>\n",
              "      <th>0</th>\n",
              "      <td>2016/01/29/0</td>\n",
              "      <td>2016-01-29T00:00:00Z</td>\n",
              "      <td>efmaadm</td>\n",
              "      <td>LICITAÇÕES</td>\n",
              "      <td>-</td>\n",
              "      <td>-</td>\n",
              "      <td>((TITULO))Extrato de Termo de Aditamento\\n((TE...</td>\n",
              "    </tr>\n",
              "    <tr>\n",
              "      <th>1</th>\n",
              "      <td>2016/01/29/55</td>\n",
              "      <td>2016-01-29T00:00:00Z</td>\n",
              "      <td>eginadm</td>\n",
              "      <td>LICITAÇÕES</td>\n",
              "      <td>EDUCAÇÃO</td>\n",
              "      <td>DIRETORIA REGIONAL DE EDUCAÇÃO DE SÃO MATEUS</td>\n",
              "      <td>((TITULO)) DIRETORIA REGIONAL DE EDUCAÇÃO SÃO ...</td>\n",
              "    </tr>\n",
              "    <tr>\n",
              "      <th>2</th>\n",
              "      <td>2016/01/29/59</td>\n",
              "      <td>2016-01-29T00:00:00Z</td>\n",
              "      <td>efhaadm</td>\n",
              "      <td>LICITAÇÕES</td>\n",
              "      <td>CULTURA</td>\n",
              "      <td>DEPTO BIBLIOTECA MÁRIO DE ANDRADE</td>\n",
              "      <td>((TITULO))INTIMAÇÃO\\n((TEXTO))((NG))2015-0.256...</td>\n",
              "    </tr>\n",
              "    <tr>\n",
              "      <th>3</th>\n",
              "      <td>2016/01/29/178</td>\n",
              "      <td>2016-01-29T00:00:00Z</td>\n",
              "      <td>efhaadm</td>\n",
              "      <td>LICITAÇÕES</td>\n",
              "      <td>CULTURA</td>\n",
              "      <td>DEPTO BIBLIOTECA MÁRIO DE ANDRADE</td>\n",
              "      <td>((TITULO))PENALIDADE\\n((TEXTO))((NG))2015-0.24...</td>\n",
              "    </tr>\n",
              "    <tr>\n",
              "      <th>4</th>\n",
              "      <td>2016/01/29/169</td>\n",
              "      <td>2016-01-29T00:00:00Z</td>\n",
              "      <td>egigadm</td>\n",
              "      <td>LICITAÇÕES</td>\n",
              "      <td>EDUCAÇÃO</td>\n",
              "      <td>DIRETORIA REGIONAL DE EDUCAÇÃO DA PENHA</td>\n",
              "      <td>((TITULO))DESPACHO DO DIRETOR REGIONAL DE EDUC...</td>\n",
              "    </tr>\n",
              "  </tbody>\n",
              "</table>\n",
              "</div>\n",
              "      <button class=\"colab-df-convert\" onclick=\"convertToInteractive('df-719308c7-b967-4d8c-b682-e43a1d797042')\"\n",
              "              title=\"Convert this dataframe to an interactive table.\"\n",
              "              style=\"display:none;\">\n",
              "        \n",
              "  <svg xmlns=\"http://www.w3.org/2000/svg\" height=\"24px\"viewBox=\"0 0 24 24\"\n",
              "       width=\"24px\">\n",
              "    <path d=\"M0 0h24v24H0V0z\" fill=\"none\"/>\n",
              "    <path d=\"M18.56 5.44l.94 2.06.94-2.06 2.06-.94-2.06-.94-.94-2.06-.94 2.06-2.06.94zm-11 1L8.5 8.5l.94-2.06 2.06-.94-2.06-.94L8.5 2.5l-.94 2.06-2.06.94zm10 10l.94 2.06.94-2.06 2.06-.94-2.06-.94-.94-2.06-.94 2.06-2.06.94z\"/><path d=\"M17.41 7.96l-1.37-1.37c-.4-.4-.92-.59-1.43-.59-.52 0-1.04.2-1.43.59L10.3 9.45l-7.72 7.72c-.78.78-.78 2.05 0 2.83L4 21.41c.39.39.9.59 1.41.59.51 0 1.02-.2 1.41-.59l7.78-7.78 2.81-2.81c.8-.78.8-2.07 0-2.86zM5.41 20L4 18.59l7.72-7.72 1.47 1.35L5.41 20z\"/>\n",
              "  </svg>\n",
              "      </button>\n",
              "      \n",
              "  <style>\n",
              "    .colab-df-container {\n",
              "      display:flex;\n",
              "      flex-wrap:wrap;\n",
              "      gap: 12px;\n",
              "    }\n",
              "\n",
              "    .colab-df-convert {\n",
              "      background-color: #E8F0FE;\n",
              "      border: none;\n",
              "      border-radius: 50%;\n",
              "      cursor: pointer;\n",
              "      display: none;\n",
              "      fill: #1967D2;\n",
              "      height: 32px;\n",
              "      padding: 0 0 0 0;\n",
              "      width: 32px;\n",
              "    }\n",
              "\n",
              "    .colab-df-convert:hover {\n",
              "      background-color: #E2EBFA;\n",
              "      box-shadow: 0px 1px 2px rgba(60, 64, 67, 0.3), 0px 1px 3px 1px rgba(60, 64, 67, 0.15);\n",
              "      fill: #174EA6;\n",
              "    }\n",
              "\n",
              "    [theme=dark] .colab-df-convert {\n",
              "      background-color: #3B4455;\n",
              "      fill: #D2E3FC;\n",
              "    }\n",
              "\n",
              "    [theme=dark] .colab-df-convert:hover {\n",
              "      background-color: #434B5C;\n",
              "      box-shadow: 0px 1px 3px 1px rgba(0, 0, 0, 0.15);\n",
              "      filter: drop-shadow(0px 1px 2px rgba(0, 0, 0, 0.3));\n",
              "      fill: #FFFFFF;\n",
              "    }\n",
              "  </style>\n",
              "\n",
              "      <script>\n",
              "        const buttonEl =\n",
              "          document.querySelector('#df-719308c7-b967-4d8c-b682-e43a1d797042 button.colab-df-convert');\n",
              "        buttonEl.style.display =\n",
              "          google.colab.kernel.accessAllowed ? 'block' : 'none';\n",
              "\n",
              "        async function convertToInteractive(key) {\n",
              "          const element = document.querySelector('#df-719308c7-b967-4d8c-b682-e43a1d797042');\n",
              "          const dataTable =\n",
              "            await google.colab.kernel.invokeFunction('convertToInteractive',\n",
              "                                                     [key], {});\n",
              "          if (!dataTable) return;\n",
              "\n",
              "          const docLinkHtml = 'Like what you see? Visit the ' +\n",
              "            '<a target=\"_blank\" href=https://colab.research.google.com/notebooks/data_table.ipynb>data table notebook</a>'\n",
              "            + ' to learn more about interactive tables.';\n",
              "          element.innerHTML = '';\n",
              "          dataTable['output_type'] = 'display_data';\n",
              "          await google.colab.output.renderOutput(dataTable, element);\n",
              "          const docLink = document.createElement('div');\n",
              "          docLink.innerHTML = docLinkHtml;\n",
              "          element.appendChild(docLink);\n",
              "        }\n",
              "      </script>\n",
              "    </div>\n",
              "  </div>\n",
              "  "
            ]
          },
          "metadata": {},
          "execution_count": 5
        }
      ]
    },
    {
      "cell_type": "code",
      "source": [
        "testes5 = testes5['Texto']\n",
        "print(testes5)"
      ],
      "metadata": {
        "colab": {
          "base_uri": "https://localhost:8080/"
        },
        "id": "jZsY7zbEIFiS",
        "outputId": "c9e24a5f-f3f3-421a-c8fa-d377bb2362bd"
      },
      "execution_count": null,
      "outputs": [
        {
          "output_type": "stream",
          "name": "stdout",
          "text": [
            "0    ((TITULO))Extrato de Termo de Aditamento\\n((TE...\n",
            "1    ((TITULO)) DIRETORIA REGIONAL DE EDUCAÇÃO SÃO ...\n",
            "2    ((TITULO))INTIMAÇÃO\\n((TEXTO))((NG))2015-0.256...\n",
            "3    ((TITULO))PENALIDADE\\n((TEXTO))((NG))2015-0.24...\n",
            "4    ((TITULO))DESPACHO DO DIRETOR REGIONAL DE EDUC...\n",
            "Name: Texto, dtype: object\n"
          ]
        }
      ]
    },
    {
      "cell_type": "code",
      "source": [
        "titulos = []\n",
        "codes = []\n",
        "valors = []\n",
        "\n",
        "for i in testes5:\n",
        "  titulo = re.findall(r\"\\(\\(TITULO\\)\\)(.*)\",i)\n",
        "  code = re.findall(r\"\\(\\([NT][GE][XTO]*\\)\\)(\\d*\\D\\d*\\D\\d*\\D\\d*\\D[\\d*\\(])\",i)\n",
        "  valor = re.findall(r\"R\\$ [0-9]*\\D[0-9]*\\D[0-9]*\",i)\n",
        "  if not titulo: titulo = ['NaN']\n",
        "  if not code: code = ['NaN']\n",
        "  if not valor: valor = ['NaN']\n",
        "\n",
        "  titulos.append(titulo[0])\n",
        "  codes.append(code[0])\n",
        "  valors.append(valor[0])"
      ],
      "metadata": {
        "id": "PMHhkwOZGPEY"
      },
      "execution_count": 45,
      "outputs": []
    },
    {
      "cell_type": "code",
      "source": [
        "result = pd.DataFrame()\n",
        "\n",
        "result['Título da Publicação'] = titulos\n",
        "result['Número do Processo'] = codes\n",
        "result['Valor'] = valors\n"
      ],
      "metadata": {
        "id": "9xR5woqxntip"
      },
      "execution_count": 46,
      "outputs": []
    },
    {
      "cell_type": "code",
      "source": [
        "result"
      ],
      "metadata": {
        "colab": {
          "base_uri": "https://localhost:8080/",
          "height": 206
        },
        "id": "yWuuZUJ9Aczs",
        "outputId": "1559fdfd-d30e-4321-ab3f-034523f5e8ec"
      },
      "execution_count": 47,
      "outputs": [
        {
          "output_type": "execute_result",
          "data": {
            "text/plain": [
              "                         Título da Publicação Número do Processo  \\\n",
              "0              Extrato de Termo de Aditamento   2013-0.009.972-7   \n",
              "1   DIRETORIA REGIONAL DE EDUCAÇÃO SÃO MATEUS   2014-0.162.291-3   \n",
              "2                                   INTIMAÇÃO   2015-0.256.186-3   \n",
              "3                                  PENALIDADE   2015-0.243.381-4   \n",
              "4  DESPACHO DO DIRETOR REGIONAL DE EDUCAÇÃO-    2014-0.159.895-8   \n",
              "\n",
              "           Valor  \n",
              "0   R$ 14.100,00  \n",
              "1  R$ 116.406,40  \n",
              "2            NaN  \n",
              "3      R$ 58,49   \n",
              "4   R$ 91.719,40  "
            ],
            "text/html": [
              "\n",
              "  <div id=\"df-0277c8c3-91a6-4a3e-875d-ca24a9432b5b\">\n",
              "    <div class=\"colab-df-container\">\n",
              "      <div>\n",
              "<style scoped>\n",
              "    .dataframe tbody tr th:only-of-type {\n",
              "        vertical-align: middle;\n",
              "    }\n",
              "\n",
              "    .dataframe tbody tr th {\n",
              "        vertical-align: top;\n",
              "    }\n",
              "\n",
              "    .dataframe thead th {\n",
              "        text-align: right;\n",
              "    }\n",
              "</style>\n",
              "<table border=\"1\" class=\"dataframe\">\n",
              "  <thead>\n",
              "    <tr style=\"text-align: right;\">\n",
              "      <th></th>\n",
              "      <th>Título da Publicação</th>\n",
              "      <th>Número do Processo</th>\n",
              "      <th>Valor</th>\n",
              "    </tr>\n",
              "  </thead>\n",
              "  <tbody>\n",
              "    <tr>\n",
              "      <th>0</th>\n",
              "      <td>Extrato de Termo de Aditamento</td>\n",
              "      <td>2013-0.009.972-7</td>\n",
              "      <td>R$ 14.100,00</td>\n",
              "    </tr>\n",
              "    <tr>\n",
              "      <th>1</th>\n",
              "      <td>DIRETORIA REGIONAL DE EDUCAÇÃO SÃO MATEUS</td>\n",
              "      <td>2014-0.162.291-3</td>\n",
              "      <td>R$ 116.406,40</td>\n",
              "    </tr>\n",
              "    <tr>\n",
              "      <th>2</th>\n",
              "      <td>INTIMAÇÃO</td>\n",
              "      <td>2015-0.256.186-3</td>\n",
              "      <td>NaN</td>\n",
              "    </tr>\n",
              "    <tr>\n",
              "      <th>3</th>\n",
              "      <td>PENALIDADE</td>\n",
              "      <td>2015-0.243.381-4</td>\n",
              "      <td>R$ 58,49</td>\n",
              "    </tr>\n",
              "    <tr>\n",
              "      <th>4</th>\n",
              "      <td>DESPACHO DO DIRETOR REGIONAL DE EDUCAÇÃO-</td>\n",
              "      <td>2014-0.159.895-8</td>\n",
              "      <td>R$ 91.719,40</td>\n",
              "    </tr>\n",
              "  </tbody>\n",
              "</table>\n",
              "</div>\n",
              "      <button class=\"colab-df-convert\" onclick=\"convertToInteractive('df-0277c8c3-91a6-4a3e-875d-ca24a9432b5b')\"\n",
              "              title=\"Convert this dataframe to an interactive table.\"\n",
              "              style=\"display:none;\">\n",
              "        \n",
              "  <svg xmlns=\"http://www.w3.org/2000/svg\" height=\"24px\"viewBox=\"0 0 24 24\"\n",
              "       width=\"24px\">\n",
              "    <path d=\"M0 0h24v24H0V0z\" fill=\"none\"/>\n",
              "    <path d=\"M18.56 5.44l.94 2.06.94-2.06 2.06-.94-2.06-.94-.94-2.06-.94 2.06-2.06.94zm-11 1L8.5 8.5l.94-2.06 2.06-.94-2.06-.94L8.5 2.5l-.94 2.06-2.06.94zm10 10l.94 2.06.94-2.06 2.06-.94-2.06-.94-.94-2.06-.94 2.06-2.06.94z\"/><path d=\"M17.41 7.96l-1.37-1.37c-.4-.4-.92-.59-1.43-.59-.52 0-1.04.2-1.43.59L10.3 9.45l-7.72 7.72c-.78.78-.78 2.05 0 2.83L4 21.41c.39.39.9.59 1.41.59.51 0 1.02-.2 1.41-.59l7.78-7.78 2.81-2.81c.8-.78.8-2.07 0-2.86zM5.41 20L4 18.59l7.72-7.72 1.47 1.35L5.41 20z\"/>\n",
              "  </svg>\n",
              "      </button>\n",
              "      \n",
              "  <style>\n",
              "    .colab-df-container {\n",
              "      display:flex;\n",
              "      flex-wrap:wrap;\n",
              "      gap: 12px;\n",
              "    }\n",
              "\n",
              "    .colab-df-convert {\n",
              "      background-color: #E8F0FE;\n",
              "      border: none;\n",
              "      border-radius: 50%;\n",
              "      cursor: pointer;\n",
              "      display: none;\n",
              "      fill: #1967D2;\n",
              "      height: 32px;\n",
              "      padding: 0 0 0 0;\n",
              "      width: 32px;\n",
              "    }\n",
              "\n",
              "    .colab-df-convert:hover {\n",
              "      background-color: #E2EBFA;\n",
              "      box-shadow: 0px 1px 2px rgba(60, 64, 67, 0.3), 0px 1px 3px 1px rgba(60, 64, 67, 0.15);\n",
              "      fill: #174EA6;\n",
              "    }\n",
              "\n",
              "    [theme=dark] .colab-df-convert {\n",
              "      background-color: #3B4455;\n",
              "      fill: #D2E3FC;\n",
              "    }\n",
              "\n",
              "    [theme=dark] .colab-df-convert:hover {\n",
              "      background-color: #434B5C;\n",
              "      box-shadow: 0px 1px 3px 1px rgba(0, 0, 0, 0.15);\n",
              "      filter: drop-shadow(0px 1px 2px rgba(0, 0, 0, 0.3));\n",
              "      fill: #FFFFFF;\n",
              "    }\n",
              "  </style>\n",
              "\n",
              "      <script>\n",
              "        const buttonEl =\n",
              "          document.querySelector('#df-0277c8c3-91a6-4a3e-875d-ca24a9432b5b button.colab-df-convert');\n",
              "        buttonEl.style.display =\n",
              "          google.colab.kernel.accessAllowed ? 'block' : 'none';\n",
              "\n",
              "        async function convertToInteractive(key) {\n",
              "          const element = document.querySelector('#df-0277c8c3-91a6-4a3e-875d-ca24a9432b5b');\n",
              "          const dataTable =\n",
              "            await google.colab.kernel.invokeFunction('convertToInteractive',\n",
              "                                                     [key], {});\n",
              "          if (!dataTable) return;\n",
              "\n",
              "          const docLinkHtml = 'Like what you see? Visit the ' +\n",
              "            '<a target=\"_blank\" href=https://colab.research.google.com/notebooks/data_table.ipynb>data table notebook</a>'\n",
              "            + ' to learn more about interactive tables.';\n",
              "          element.innerHTML = '';\n",
              "          dataTable['output_type'] = 'display_data';\n",
              "          await google.colab.output.renderOutput(dataTable, element);\n",
              "          const docLink = document.createElement('div');\n",
              "          docLink.innerHTML = docLinkHtml;\n",
              "          element.appendChild(docLink);\n",
              "        }\n",
              "      </script>\n",
              "    </div>\n",
              "  </div>\n",
              "  "
            ]
          },
          "metadata": {},
          "execution_count": 47
        }
      ]
    }
  ]
}