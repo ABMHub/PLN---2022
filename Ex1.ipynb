{
  "nbformat": 4,
  "nbformat_minor": 0,
  "metadata": {
    "colab": {
      "name": "Ex1.ipynb",
      "provenance": []
    },
    "kernelspec": {
      "name": "python3",
      "display_name": "Python 3"
    },
    "language_info": {
      "name": "python"
    }
  },
  "cells": [
    {
      "cell_type": "markdown",
      "source": [
        "Aluna: Tong Zhou - 190038764\n"
      ],
      "metadata": {
        "id": "-jNc50PvtY9A"
      }
    },
    {
      "cell_type": "markdown",
      "source": [
        "# Estudo"
      ],
      "metadata": {
        "id": "4vdtCuKHTMxW"
      }
    },
    {
      "cell_type": "markdown",
      "source": [
        "Importar primeiro antes de executar qualquer comando"
      ],
      "metadata": {
        "id": "RzT7Hsmz7kwG"
      }
    },
    {
      "cell_type": "code",
      "source": [
        "import re\n",
        "import pandas as pd"
      ],
      "metadata": {
        "id": "B0lUdNGTmyz3"
      },
      "execution_count": 1,
      "outputs": []
    },
    {
      "cell_type": "code",
      "source": [
        "test = pd.read_csv('dosp_29012016.csv')"
      ],
      "metadata": {
        "id": "0eskVtS0HvOl"
      },
      "execution_count": 3,
      "outputs": []
    },
    {
      "cell_type": "code",
      "source": [
        "test.head()"
      ],
      "metadata": {
        "colab": {
          "base_uri": "https://localhost:8080/",
          "height": 426
        },
        "id": "4szsPCEK5zyj",
        "outputId": "f3187cf4-8a4b-4f15-96e4-61024db8485d"
      },
      "execution_count": 5,
      "outputs": [
        {
          "output_type": "execute_result",
          "data": {
            "text/plain": [
              "             ID                  Data Retranca Tipo do Conteúdo  \\\n",
              "0  2016/01/29/0  2016-01-29T00:00:00Z  efmaadm       LICITAÇÕES   \n",
              "1  2016/01/29/1  2016-01-29T00:00:00Z  efaaadm       LICITAÇÕES   \n",
              "2  2016/01/29/2  2016-01-29T00:00:00Z  efmaadm       LICITAÇÕES   \n",
              "3  2016/01/29/3  2016-01-29T00:00:00Z  epaaadm       LICITAÇÕES   \n",
              "4  2016/01/29/4  2016-01-29T00:00:00Z  epwbadm       LICITAÇÕES   \n",
              "\n",
              "                       Secretaria                           Orgão  \\\n",
              "0                               -                               -   \n",
              "1                         CULTURA          GABINETE DO SECRETÁRIO   \n",
              "2                               -                               -   \n",
              "3                           SAÚDE          GABINETE DO SECRETÁRIO   \n",
              "4  AUTARQUIA HOSPITALAR MUNICIPAL  DIRETORIA DE GESTÃO DE PESSOAL   \n",
              "\n",
              "                                               Texto Unnamed: 7 Unnamed: 8  \\\n",
              "0  ((TITULO))Extrato de Termo de Aditamento\\r\\n((...        NaN        NaN   \n",
              "1  ((TITULO))CONTRAÇÃO DE NATUREZA ARTÍSTICA\\r\\n\\...        NaN        NaN   \n",
              "2  ((TITULO))Extrato de Termo de Aditamento\\r\\n((...        NaN        NaN   \n",
              "3  ((TITULO))PROCESSO: 2015-0.272.291-3\\r\\n((TEXT...        NaN        NaN   \n",
              "4  ((TITULO))PENALIDADE\\r\\n((TEXTO))((NG))PROCESS...        NaN        NaN   \n",
              "\n",
              "  Unnamed: 9 Unnamed: 10 Unnamed: 11 Unnamed: 12  \n",
              "0        NaN         NaN         NaN         NaN  \n",
              "1        NaN         NaN         NaN         NaN  \n",
              "2        NaN         NaN         NaN         NaN  \n",
              "3        NaN         NaN         NaN         NaN  \n",
              "4        NaN         NaN         NaN         NaN  "
            ],
            "text/html": [
              "\n",
              "  <div id=\"df-126e1c1a-5677-4dde-bf90-58a384c30aa2\">\n",
              "    <div class=\"colab-df-container\">\n",
              "      <div>\n",
              "<style scoped>\n",
              "    .dataframe tbody tr th:only-of-type {\n",
              "        vertical-align: middle;\n",
              "    }\n",
              "\n",
              "    .dataframe tbody tr th {\n",
              "        vertical-align: top;\n",
              "    }\n",
              "\n",
              "    .dataframe thead th {\n",
              "        text-align: right;\n",
              "    }\n",
              "</style>\n",
              "<table border=\"1\" class=\"dataframe\">\n",
              "  <thead>\n",
              "    <tr style=\"text-align: right;\">\n",
              "      <th></th>\n",
              "      <th>ID</th>\n",
              "      <th>Data</th>\n",
              "      <th>Retranca</th>\n",
              "      <th>Tipo do Conteúdo</th>\n",
              "      <th>Secretaria</th>\n",
              "      <th>Orgão</th>\n",
              "      <th>Texto</th>\n",
              "      <th>Unnamed: 7</th>\n",
              "      <th>Unnamed: 8</th>\n",
              "      <th>Unnamed: 9</th>\n",
              "      <th>Unnamed: 10</th>\n",
              "      <th>Unnamed: 11</th>\n",
              "      <th>Unnamed: 12</th>\n",
              "    </tr>\n",
              "  </thead>\n",
              "  <tbody>\n",
              "    <tr>\n",
              "      <th>0</th>\n",
              "      <td>2016/01/29/0</td>\n",
              "      <td>2016-01-29T00:00:00Z</td>\n",
              "      <td>efmaadm</td>\n",
              "      <td>LICITAÇÕES</td>\n",
              "      <td>-</td>\n",
              "      <td>-</td>\n",
              "      <td>((TITULO))Extrato de Termo de Aditamento\\r\\n((...</td>\n",
              "      <td>NaN</td>\n",
              "      <td>NaN</td>\n",
              "      <td>NaN</td>\n",
              "      <td>NaN</td>\n",
              "      <td>NaN</td>\n",
              "      <td>NaN</td>\n",
              "    </tr>\n",
              "    <tr>\n",
              "      <th>1</th>\n",
              "      <td>2016/01/29/1</td>\n",
              "      <td>2016-01-29T00:00:00Z</td>\n",
              "      <td>efaaadm</td>\n",
              "      <td>LICITAÇÕES</td>\n",
              "      <td>CULTURA</td>\n",
              "      <td>GABINETE DO SECRETÁRIO</td>\n",
              "      <td>((TITULO))CONTRAÇÃO DE NATUREZA ARTÍSTICA\\r\\n\\...</td>\n",
              "      <td>NaN</td>\n",
              "      <td>NaN</td>\n",
              "      <td>NaN</td>\n",
              "      <td>NaN</td>\n",
              "      <td>NaN</td>\n",
              "      <td>NaN</td>\n",
              "    </tr>\n",
              "    <tr>\n",
              "      <th>2</th>\n",
              "      <td>2016/01/29/2</td>\n",
              "      <td>2016-01-29T00:00:00Z</td>\n",
              "      <td>efmaadm</td>\n",
              "      <td>LICITAÇÕES</td>\n",
              "      <td>-</td>\n",
              "      <td>-</td>\n",
              "      <td>((TITULO))Extrato de Termo de Aditamento\\r\\n((...</td>\n",
              "      <td>NaN</td>\n",
              "      <td>NaN</td>\n",
              "      <td>NaN</td>\n",
              "      <td>NaN</td>\n",
              "      <td>NaN</td>\n",
              "      <td>NaN</td>\n",
              "    </tr>\n",
              "    <tr>\n",
              "      <th>3</th>\n",
              "      <td>2016/01/29/3</td>\n",
              "      <td>2016-01-29T00:00:00Z</td>\n",
              "      <td>epaaadm</td>\n",
              "      <td>LICITAÇÕES</td>\n",
              "      <td>SAÚDE</td>\n",
              "      <td>GABINETE DO SECRETÁRIO</td>\n",
              "      <td>((TITULO))PROCESSO: 2015-0.272.291-3\\r\\n((TEXT...</td>\n",
              "      <td>NaN</td>\n",
              "      <td>NaN</td>\n",
              "      <td>NaN</td>\n",
              "      <td>NaN</td>\n",
              "      <td>NaN</td>\n",
              "      <td>NaN</td>\n",
              "    </tr>\n",
              "    <tr>\n",
              "      <th>4</th>\n",
              "      <td>2016/01/29/4</td>\n",
              "      <td>2016-01-29T00:00:00Z</td>\n",
              "      <td>epwbadm</td>\n",
              "      <td>LICITAÇÕES</td>\n",
              "      <td>AUTARQUIA HOSPITALAR MUNICIPAL</td>\n",
              "      <td>DIRETORIA DE GESTÃO DE PESSOAL</td>\n",
              "      <td>((TITULO))PENALIDADE\\r\\n((TEXTO))((NG))PROCESS...</td>\n",
              "      <td>NaN</td>\n",
              "      <td>NaN</td>\n",
              "      <td>NaN</td>\n",
              "      <td>NaN</td>\n",
              "      <td>NaN</td>\n",
              "      <td>NaN</td>\n",
              "    </tr>\n",
              "  </tbody>\n",
              "</table>\n",
              "</div>\n",
              "      <button class=\"colab-df-convert\" onclick=\"convertToInteractive('df-126e1c1a-5677-4dde-bf90-58a384c30aa2')\"\n",
              "              title=\"Convert this dataframe to an interactive table.\"\n",
              "              style=\"display:none;\">\n",
              "        \n",
              "  <svg xmlns=\"http://www.w3.org/2000/svg\" height=\"24px\"viewBox=\"0 0 24 24\"\n",
              "       width=\"24px\">\n",
              "    <path d=\"M0 0h24v24H0V0z\" fill=\"none\"/>\n",
              "    <path d=\"M18.56 5.44l.94 2.06.94-2.06 2.06-.94-2.06-.94-.94-2.06-.94 2.06-2.06.94zm-11 1L8.5 8.5l.94-2.06 2.06-.94-2.06-.94L8.5 2.5l-.94 2.06-2.06.94zm10 10l.94 2.06.94-2.06 2.06-.94-2.06-.94-.94-2.06-.94 2.06-2.06.94z\"/><path d=\"M17.41 7.96l-1.37-1.37c-.4-.4-.92-.59-1.43-.59-.52 0-1.04.2-1.43.59L10.3 9.45l-7.72 7.72c-.78.78-.78 2.05 0 2.83L4 21.41c.39.39.9.59 1.41.59.51 0 1.02-.2 1.41-.59l7.78-7.78 2.81-2.81c.8-.78.8-2.07 0-2.86zM5.41 20L4 18.59l7.72-7.72 1.47 1.35L5.41 20z\"/>\n",
              "  </svg>\n",
              "      </button>\n",
              "      \n",
              "  <style>\n",
              "    .colab-df-container {\n",
              "      display:flex;\n",
              "      flex-wrap:wrap;\n",
              "      gap: 12px;\n",
              "    }\n",
              "\n",
              "    .colab-df-convert {\n",
              "      background-color: #E8F0FE;\n",
              "      border: none;\n",
              "      border-radius: 50%;\n",
              "      cursor: pointer;\n",
              "      display: none;\n",
              "      fill: #1967D2;\n",
              "      height: 32px;\n",
              "      padding: 0 0 0 0;\n",
              "      width: 32px;\n",
              "    }\n",
              "\n",
              "    .colab-df-convert:hover {\n",
              "      background-color: #E2EBFA;\n",
              "      box-shadow: 0px 1px 2px rgba(60, 64, 67, 0.3), 0px 1px 3px 1px rgba(60, 64, 67, 0.15);\n",
              "      fill: #174EA6;\n",
              "    }\n",
              "\n",
              "    [theme=dark] .colab-df-convert {\n",
              "      background-color: #3B4455;\n",
              "      fill: #D2E3FC;\n",
              "    }\n",
              "\n",
              "    [theme=dark] .colab-df-convert:hover {\n",
              "      background-color: #434B5C;\n",
              "      box-shadow: 0px 1px 3px 1px rgba(0, 0, 0, 0.15);\n",
              "      filter: drop-shadow(0px 1px 2px rgba(0, 0, 0, 0.3));\n",
              "      fill: #FFFFFF;\n",
              "    }\n",
              "  </style>\n",
              "\n",
              "      <script>\n",
              "        const buttonEl =\n",
              "          document.querySelector('#df-126e1c1a-5677-4dde-bf90-58a384c30aa2 button.colab-df-convert');\n",
              "        buttonEl.style.display =\n",
              "          google.colab.kernel.accessAllowed ? 'block' : 'none';\n",
              "\n",
              "        async function convertToInteractive(key) {\n",
              "          const element = document.querySelector('#df-126e1c1a-5677-4dde-bf90-58a384c30aa2');\n",
              "          const dataTable =\n",
              "            await google.colab.kernel.invokeFunction('convertToInteractive',\n",
              "                                                     [key], {});\n",
              "          if (!dataTable) return;\n",
              "\n",
              "          const docLinkHtml = 'Like what you see? Visit the ' +\n",
              "            '<a target=\"_blank\" href=https://colab.research.google.com/notebooks/data_table.ipynb>data table notebook</a>'\n",
              "            + ' to learn more about interactive tables.';\n",
              "          element.innerHTML = '';\n",
              "          dataTable['output_type'] = 'display_data';\n",
              "          await google.colab.output.renderOutput(dataTable, element);\n",
              "          const docLink = document.createElement('div');\n",
              "          docLink.innerHTML = docLinkHtml;\n",
              "          element.appendChild(docLink);\n",
              "        }\n",
              "      </script>\n",
              "    </div>\n",
              "  </div>\n",
              "  "
            ]
          },
          "metadata": {},
          "execution_count": 5
        }
      ]
    },
    {
      "cell_type": "code",
      "source": [
        "ex1 = '((TITULO))Extrato de Termo de Aditamento\\n((TEXTO))((NG))2013-0.009.972-7((CL)). OBJETO: Prorrogação Contratual da Escola de Dança de São Paulo, referente aos meses de janeiro a março de 2016. CONTRATANTE:\\n((NG))FTMSP/EDSP((CL)) e CONTRATADO: Sandra Lúcia Gomes; Função: Oficinas Práticas de Dança; Valor Total R$ 14.100,00. Termo de Aditamento nº 021/2016.'\n",
        "ex2 = '((TITULO)) DIRETORIA REGIONAL DE EDUCAÇÃO SÃO MATEUS DESPACHO DA DIRETORA REGIONAL\\n((TEXTO))((NG))2014-0.140.779-6\\n((CL)),Centro Social Nossa Senhora do Bom Parto, inscrito no CNPJ: 62.264.494/0001 - 79, aditamento de convênio – CEI Mãe da Esperança. I - À vista dos elementos constantes dos autos, em especial as manifestações da Assistente Técnica de Engenharia, do Setor de Demanda, do Setor de Convênios, do Setor de Contabilidade, da Supervisão Escolar, do Assistente Técnico Jurídico da Diretoria Regional de Educação São Mateus, que acolho e adoto como razões de decidir, \\n((NG))AUTORIZO\\n((CL)), com fundamento nas Portarias SME nº 4.772/15, nº 3.477/2011 e alterações posteriores, o aditamento do Termo de Convênio nº 172/SME/2014-RI, firmado com a entidade convenente denominada “Centro Social Nossa Senhora do Bom Parto”, inscrito no CNPJ sob nº 62.264.494/0001-79, para funcionamento do CEI Mãe da Esperança, objetivando a redução do atendimento no berçário e da capacidade total de atendimento para 240 crianças, na faixa etária de 1 a 3 anos, sendo 45 de berçário e mediante repasse mensal de R$ 114.806,40 e atualização do per capita nos termos da Portaria 3477/11 e alterações posteriores II - O aditamento será formalizado conforme a minuta de fls. 265; III - As despesas decorrentes da presente autorização onerarão a dotação orçamentária nº 16.23.12.365.3010.2.825.3.3.50.39.00.00; IV - A documentação exigida pela Portaria SME nº 3.477/2011 deverá estar em vigor no momento da efetiva celebração do aditamento.'\n",
        "ex3 = '((TITULO))INTIMAÇÃO\\n((TEXTO))((NG))2015-0.256.186-3((CL)) - Copatrocino para produção do livro catálogo da exposição Torres Garcia.\\nI - Diante dos elementos constantes deste Processo Administrativo, em especial do parecer contábil de fls. 45/46, com fundamento no artigo 17 do Decreto Municipal nº 51.300/10 e na competência a mim delegada através da Portaria nº 74/10-SMC-G, fica a empresa ((NG))IPSIS GRÁFICA E EDITORA SA((CL)), inscrita no CNPJ sob o nº 61.407.078/0001-10, ((NG))INTIMADA((CL)) a apresentar esclarecimentos e/ou comprovação de regularização das pendências apontadas na prestação de contas referente ao Termo de Copatrocino nº 05/2015 firmado com a Secretaria Municipal de Cultura, no prazo de 30 dias, sob pena de adoção de procedimento visando a aplicação das sanções cabíveis.\\nII - Fica, franqueada, desde já, na Biblioteca Mário de Andrade, vista dos autos para consulta.'\n",
        "ex4 = '((TITULO))PENALIDADE\\n((TEXTO))((NG))2015-0.243.381-4((CL)) - Pagamento referente a aquisição de cadeados.\\nI – À vista dos elementos coligidos ao presente, nos termos dos artigos 54 e 57 do Decreto Municipal n° 44.279/03 e o artigo 14 do Decreto Municipal n° 51.194/2010, e na competência a mim delegada pela Portaria nº 40/2005 SMC-G, ((NG))APLICO((CL)) à empresa ((NG))PARADA OBRIGATÓRIA COMÉRCIO E IMPORTAÇÃO DE ELETRÔNICOS LTDA. - ME((CL))., inscrita no CNPJ sob o nº 13.446.995/0001-60, a penalidade de multa de 0,5% (meio por cento), por dia de atraso, sobre o valor dos bens não entregues no prazo, conforme previsto no item “i” do Anexo de Empenho nº 83620/2015, no total de R$ 58,49 (cinquenta e oito reais e quarenta e nove centavos), em decorrência do atraso de 39 (trinta e nove) dias na entrega do material.\\nII – O representante legal da empresa fica ((NG))NOTIFICADO((CL)) para, querendo, apresentar recurso desta decisão no prazo de 05 (cinco) dias úteis, franqueada, desde já, na Diretoria Administrativa da Biblioteca Mário de Andrade, vista dos autos para esse fim.'\n",
        "ex5 = '((TITULO))DESPACHO DO DIRETOR REGIONAL DE EDUCAÇÃO-DRE-PE\\n((TEXTO))2014-0.159.895-8-I. À vista dos elementos que instruem o presente, em especial as manifestações dos Setores de Demanda Escolar, Prédios e Equipamentos, Supervisão Escolar, Convênios, Contabilidade, Diretoria de Planejamento e Assessoria Jurídica desta Diretoria Regional de Educação Penha, que acolho, e, com fundamento na Portaria 4.772/2015, ((NG))AUTORIZO((CL)), nos termos na Portaria nº 3.477/2011 e suas alterações posteriores, o aditamento de capacidade do Termo de Convênio nº 195/SME/2014 – RI, com o ((NG))Centro Social Nossa Senhora do Bom Parto((CL)), inscrito no CNPJ nº 62.264.494/0001-79, para atendimento a 175 crianças, na faixa etária de 0 a 03 anos, sendo 53 de berçário, no ((NG))CEI Maria de Belém((CL)), mediante repasse mensal de R$ 91.719,40 (noventa e um mil, setecentos e dezenove reais e quarenta centavos), a partir de 01/02/2016.II. As despesas decorrentes da celebração, ora autorizada, onerarão a dotação orçamentária n16.17.12.365.3010.2825.3.3.50.39.00.00.III-A documentação exigida pela Portaria nº. 3.477/11 deverá estar em vigor no momento da lavratura.'"
      ],
      "metadata": {
        "id": "bMeFZW-XHV-Q"
      },
      "execution_count": 108,
      "outputs": []
    },
    {
      "cell_type": "code",
      "execution_count": 8,
      "metadata": {
        "id": "7BT7xK32VYIF"
      },
      "outputs": [],
      "source": [
        "ex1 = '((TITULO))Extrato de Termo de Aditamento\\n((TEXTO))((NG))2013-0.009.972-7((CL)). OBJETO: Prorrogação Contratual da Escola de Dança de São Paulo, referente aos meses de janeiro a março de 2016. CONTRATANTE:\\n((NG))FTMSP/EDSP((CL)) e CONTRATADO: Sandra Lúcia Gomes; Função: Oficinas Práticas de Dança; Valor Total R$ 14.100,00. Termo de Aditamento nº 021/2016.'"
      ]
    },
    {
      "cell_type": "code",
      "source": [
        "ex2 = '((TITULO)) DIRETORIA REGIONAL DE EDUCAÇÃO SÃO MATEUS DESPACHO DA DIRETORA REGIONAL\\n((TEXTO))((NG))2014-0.140.779-6\\n((CL)),Centro Social Nossa Senhora do Bom Parto, inscrito no CNPJ: 62.264.494/0001 - 79, aditamento de convênio – CEI Mãe da Esperança. I - À vista dos elementos constantes dos autos, em especial as manifestações da Assistente Técnica de Engenharia, do Setor de Demanda, do Setor de Convênios, do Setor de Contabilidade, da Supervisão Escolar, do Assistente Técnico Jurídico da Diretoria Regional de Educação São Mateus, que acolho e adoto como razões de decidir, \\n((NG))AUTORIZO\\n((CL)), com fundamento nas Portarias SME nº 4.772/15, nº 3.477/2011 e alterações posteriores, o aditamento do Termo de Convênio nº 172/SME/2014-RI, firmado com a entidade convenente denominada “Centro Social Nossa Senhora do Bom Parto”, inscrito no CNPJ sob nº 62.264.494/0001-79, para funcionamento do CEI Mãe da Esperança, objetivando a redução do atendimento no berçário e da capacidade total de atendimento para 240 crianças, na faixa etária de 1 a 3 anos, sendo 45 de berçário e mediante repasse mensal de R$ 114.806,40 e atualização do per capita nos termos da Portaria 3477/11 e alterações posteriores II - O aditamento será formalizado conforme a minuta de fls. 265; III - As despesas decorrentes da presente autorização onerarão a dotação orçamentária nº 16.23.12.365.3010.2.825.3.3.50.39.00.00; IV - A documentação exigida pela Portaria SME nº 3.477/2011 deverá estar em vigor no momento da efetiva celebração do aditamento.'"
      ],
      "metadata": {
        "id": "aBH43Vx9nUm0"
      },
      "execution_count": 23,
      "outputs": []
    },
    {
      "cell_type": "code",
      "source": [
        "ex3 = '((TITULO))INTIMAÇÃO\\n((TEXTO))((NG))2015-0.256.186-3((CL)) - Copatrocino para produção do livro catálogo da exposição Torres Garcia.\\nI - Diante dos elementos constantes deste Processo Administrativo, em especial do parecer contábil de fls. 45/46, com fundamento no artigo 17 do Decreto Municipal nº 51.300/10 e na competência a mim delegada através da Portaria nº 74/10-SMC-G, fica a empresa ((NG))IPSIS GRÁFICA E EDITORA SA((CL)), inscrita no CNPJ sob o nº 61.407.078/0001-10, ((NG))INTIMADA((CL)) a apresentar esclarecimentos e/ou comprovação de regularização das pendências apontadas na prestação de contas referente ao Termo de Copatrocino nº 05/2015 firmado com a Secretaria Municipal de Cultura, no prazo de 30 dias, sob pena de adoção de procedimento visando a aplicação das sanções cabíveis.\\nII - Fica, franqueada, desde já, na Biblioteca Mário de Andrade, vista dos autos para consulta.'"
      ],
      "metadata": {
        "id": "sb7YFroJnbJU"
      },
      "execution_count": 24,
      "outputs": []
    },
    {
      "cell_type": "code",
      "source": [
        "ex4 = '((TITULO))PENALIDADE\\n((TEXTO))((NG))2015-0.243.381-4((CL)) - Pagamento referente a aquisição de cadeados.\\nI – À vista dos elementos coligidos ao presente, nos termos dos artigos 54 e 57 do Decreto Municipal n° 44.279/03 e o artigo 14 do Decreto Municipal n° 51.194/2010, e na competência a mim delegada pela Portaria nº 40/2005 SMC-G, ((NG))APLICO((CL)) à empresa ((NG))PARADA OBRIGATÓRIA COMÉRCIO E IMPORTAÇÃO DE ELETRÔNICOS LTDA. - ME((CL))., inscrita no CNPJ sob o nº 13.446.995/0001-60, a penalidade de multa de 0,5% (meio por cento), por dia de atraso, sobre o valor dos bens não entregues no prazo, conforme previsto no item “i” do Anexo de Empenho nº 83620/2015, no total de R$ 58,49 (cinquenta e oito reais e quarenta e nove centavos), em decorrência do atraso de 39 (trinta e nove) dias na entrega do material.\\nII – O representante legal da empresa fica ((NG))NOTIFICADO((CL)) para, querendo, apresentar recurso desta decisão no prazo de 05 (cinco) dias úteis, franqueada, desde já, na Diretoria Administrativa da Biblioteca Mário de Andrade, vista dos autos para esse fim.'"
      ],
      "metadata": {
        "id": "7zLy9E4FncU0"
      },
      "execution_count": 45,
      "outputs": []
    },
    {
      "cell_type": "code",
      "source": [
        "ex5 = '((TITULO))DESPACHO DO DIRETOR REGIONAL DE EDUCAÇÃO-DRE-PE\\n((TEXTO))2014-0.159.895-8-I. À vista dos elementos que instruem o presente, em especial as manifestações dos Setores de Demanda Escolar, Prédios e Equipamentos, Supervisão Escolar, Convênios, Contabilidade, Diretoria de Planejamento e Assessoria Jurídica desta Diretoria Regional de Educação Penha, que acolho, e, com fundamento na Portaria 4.772/2015, ((NG))AUTORIZO((CL)), nos termos na Portaria nº 3.477/2011 e suas alterações posteriores, o aditamento de capacidade do Termo de Convênio nº 195/SME/2014 – RI, com o ((NG))Centro Social Nossa Senhora do Bom Parto((CL)), inscrito no CNPJ nº 62.264.494/0001-79, para atendimento a 175 crianças, na faixa etária de 0 a 03 anos, sendo 53 de berçário, no ((NG))CEI Maria de Belém((CL)), mediante repasse mensal de R$ 91.719,40 (noventa e um mil, setecentos e dezenove reais e quarenta centavos), a partir de 01/02/2016.II. As despesas decorrentes da celebração, ora autorizada, onerarão a dotação orçamentária n16.17.12.365.3010.2825.3.3.50.39.00.00.III-A documentação exigida pela Portaria nº. 3.477/11 deverá estar em vigor no momento da lavratura.'"
      ],
      "metadata": {
        "id": "5mQOpDc5ndpT"
      },
      "execution_count": 58,
      "outputs": []
    },
    {
      "cell_type": "code",
      "source": [
        "print(ex1)"
      ],
      "metadata": {
        "colab": {
          "base_uri": "https://localhost:8080/"
        },
        "id": "RL_wZXSPmisX",
        "outputId": "4884c5b7-b7fc-47d0-c915-28f739c4d840"
      },
      "execution_count": 22,
      "outputs": [
        {
          "output_type": "stream",
          "name": "stdout",
          "text": [
            "((TITULO))Extrato de Termo de Aditamento\n",
            "((TEXTO))((NG))2013-0.009.972-7((CL)). OBJETO: Prorrogação Contratual da Escola de Dança de São Paulo, referente aos meses de janeiro a março de 2016. CONTRATANTE:\n",
            "((NG))FTMSP/EDSP((CL)) e CONTRATADO: Sandra Lúcia Gomes; Função: Oficinas Práticas de Dança; Valor Total R$ 14.100,00. Termo de Aditamento nº 021/2016.\n"
          ]
        }
      ]
    },
    {
      "cell_type": "code",
      "source": [
        "print(ex2)"
      ],
      "metadata": {
        "colab": {
          "base_uri": "https://localhost:8080/"
        },
        "id": "IMGpn5fioh8v",
        "outputId": "79954bad-3da0-4051-a3df-246798660265"
      },
      "execution_count": null,
      "outputs": [
        {
          "output_type": "stream",
          "name": "stdout",
          "text": [
            "((TITULO)) DIRETORIA REGIONAL DE EDUCAÇÃO SÃO MATEUS DESPACHO DA DIRETORA REGIONAL\n",
            "((TEXTO))((NG))2014-0.140.779-6\n",
            "((CL)),Centro Social Nossa Senhora do Bom Parto, inscrito no CNPJ: 62.264.494/0001 - 79, aditamento de convênio – CEI Mãe da Esperança. I - À vista dos elementos constantes dos autos, em especial as manifestações da Assistente Técnica de Engenharia, do Setor de Demanda, do Setor de Convênios, do Setor de Contabilidade, da Supervisão Escolar, do Assistente Técnico Jurídico da Diretoria Regional de Educação São Mateus, que acolho e adoto como razões de decidir, \n",
            "((NG))AUTORIZO\n",
            "((CL)), com fundamento nas Portarias SME nº 4.772/15, nº 3.477/2011 e alterações posteriores, o aditamento do Termo de Convênio nº 172/SME/2014-RI, firmado com a entidade convenente denominada “Centro Social Nossa Senhora do Bom Parto”, inscrito no CNPJ sob nº 62.264.494/0001-79, para funcionamento do CEI Mãe da Esperança, objetivando a redução do atendimento no berçário e da capacidade total de atendimento para 240 crianças, na faixa etária de 1 a 3 anos, sendo 45 de berçário e mediante repasse mensal de R$ 114.806,40 e atualização do per capita nos termos da Portaria 3477/11 e alterações posteriores II - O aditamento será formalizado conforme a minuta de fls. 265; III - As despesas decorrentes da presente autorização onerarão a dotação orçamentária nº 16.23.12.365.3010.2.825.3.3.50.39.00.00; IV - A documentação exigida pela Portaria SME nº 3.477/2011 deverá estar em vigor no momento da efetiva celebração do aditamento.\n"
          ]
        }
      ]
    },
    {
      "cell_type": "code",
      "source": [
        "print(ex3)"
      ],
      "metadata": {
        "colab": {
          "base_uri": "https://localhost:8080/"
        },
        "id": "mCxusUPPpDM3",
        "outputId": "46d92c26-475a-49c6-a32d-77d82705b75d"
      },
      "execution_count": null,
      "outputs": [
        {
          "output_type": "stream",
          "name": "stdout",
          "text": [
            "((TITULO))INTIMAÇÃO\n",
            "((TEXTO))((NG))2015-0.256.186-3((CL)) - Copatrocino para produção do livro catálogo da exposição Torres Garcia.\n",
            "I - Diante dos elementos constantes deste Processo Administrativo, em especial do parecer contábil de fls. 45/46, com fundamento no artigo 17 do Decreto Municipal nº 51.300/10 e na competência a mim delegada através da Portaria nº 74/10-SMC-G, fica a empresa ((NG))IPSIS GRÁFICA E EDITORA SA((CL)), inscrita no CNPJ sob o nº 61.407.078/0001-10, ((NG))INTIMADA((CL)) a apresentar esclarecimentos e/ou comprovação de regularização das pendências apontadas na prestação de contas referente ao Termo de Copatrocino nº 05/2015 firmado com a Secretaria Municipal de Cultura, no prazo de 30 dias, sob pena de adoção de procedimento visando a aplicação das sanções cabíveis.\n",
            "II - Fica, franqueada, desde já, na Biblioteca Mário de Andrade, vista dos autos para consulta.\n"
          ]
        }
      ]
    },
    {
      "cell_type": "code",
      "source": [
        "print(ex4)"
      ],
      "metadata": {
        "colab": {
          "base_uri": "https://localhost:8080/"
        },
        "id": "jeSHBqF8pDdO",
        "outputId": "8ac709c2-fe80-4c02-d538-899d16ca2762"
      },
      "execution_count": null,
      "outputs": [
        {
          "output_type": "stream",
          "name": "stdout",
          "text": [
            "((TITULO)) EXTRATOS DE CONVÊNIOS\n",
            "((NG))2013.0.276.343.8. SAS CAPELA DO SOCORRO-Termo de Aditamento 001/2016 ao Termo de Convênio 017/SMADS/2014. Partes: PMSP - SMADS e a organização CENTRO COMUNITÁRIO JARDIM AUTÓDROMO, CNPJ 57.184.723/0001-05((CL)). SERVIÇO DE CONVIVÊNCIA E FORTALECIMENTO DE VÍNCULOS-SCFV-CJ.Resolvem a partir de 01/02/2016 aditar o termo de convênio em referência.CLASULA 1ª O prazo de vigência do convênio de que se trata fica prorrogado até 31/01/2019,completando o prazo de 60 meses nos termos da legislação vigente.CLAUSULA 2ª Fica REDUZIDO o valor de R$ 0,99 totalizando o valor de repasse mensal em R$ 44.263,16.CLAUSULA 3ª  Este convênio deverá ser adequado ás disposições da Lei Federal nº 13.019, de 31 de julho de 2014 e demais disposições que regulamentam a matéria no municipio de São Paulo e na Secretaria Municipal de Assistência e Desenvolvimento Social,no prazo a ser estabelecido pelo Decreto Munnicipal que regulamentará,no ambito do Municipio, a Lei Federal 13.019, de 31 de julho de 2014. CLAUSULA 4ª Permanecem inalteradas as demais condições anteriormente ajustadas. Assinatura em 22/01/2016.\n"
          ]
        }
      ]
    },
    {
      "cell_type": "code",
      "source": [
        "print(ex5)"
      ],
      "metadata": {
        "colab": {
          "base_uri": "https://localhost:8080/"
        },
        "id": "UIh_A9dOpDpO",
        "outputId": "5b125909-9903-44f3-f9fb-8363c95534a8"
      },
      "execution_count": null,
      "outputs": [
        {
          "output_type": "stream",
          "name": "stdout",
          "text": [
            "((TITULO))COORDENADORIA DE ADMINISTRAÇÃO E FINANÇAS\n",
            "((TEXTO))((NG))2014-0.275.416-3((CL)): -  1 – À vista dos elementos contidos no presente processo, e no exercício da atribuição a mim conferida pela Lei Municipal n.º 13.399, de 01/08/02, AUTORIZO a prorrogação do Contrato nº 05/SP/CV/2014, celebrado com a empresa HANATTEC – COMÉRCIO DE TECNOLOGIA AMBIENTAL LTDA., inscrita no CNPJ sob nº 07.509.106/0001-64, referente aos  serviços de conservação de limpeza manual de galerias, córregos e canais, através de 01 (uma) equipe por 01 (um) mês, no período de 29.01.16 a 28.02.16, no valor total de R$ 42.262,00 (quarenta e dois mil, duzentos e sessenta e dois reais), sendo  o valor de R$ 37.400,00 (trinta e sete mil e quatrocentos reais) para pagamento do principal e R$ 4.862,00 (quatro mil, oitocentos e sessenta e dois reais), como previsão para pagamento de reajuste a partir de 29.12.15, com fundamento na Lei nº 8.666/93, Lei Municipal nº 13.278/02, Decreto Municipal nº 44.279/03, Lei Federal nº 10.520/02 e do Decreto Municipal nº 53.694/13 e demais normas complementares e disposições deste instrumento, bem como, AUTORIZO a emissão da(s) Nota(s) de Empenho, nos valores de R$ 37.400,00 (trinta e sete mil e quatrocentos reais) e R$ 4.862,00 (quatro mil, oitocentos e sessenta e dois reais), ambas  onerando a dotação 44.10.17.512.3008.2367.33903900, do presente exercício.\n",
            "2 - A retirada da(s) Nota(s) de Empenho e Anexo(s) fica condicionada à apresentação de cópias do Certificado do FGTS, Certidão de Regularidade com os Tributos Municipais, Certidão Negativa de Débitos Trabalhistas, Certidão conjunta negativa de débitos relativos aos Tributos Federais e à Divida Ativa da União e demais documentos técnicos exigíveis do Contrato nº 005/SP/CV/2014.\n"
          ]
        }
      ]
    },
    {
      "cell_type": "code",
      "source": [
        "tudo = ex1 + ex2 + ex3 + ex4 + ex5\n",
        "print(tudo)"
      ],
      "metadata": {
        "colab": {
          "base_uri": "https://localhost:8080/"
        },
        "id": "ZblhF_Kiqknn",
        "outputId": "c713a1f8-9130-4ef3-e0b8-dabfdeb9d669"
      },
      "execution_count": 109,
      "outputs": [
        {
          "output_type": "stream",
          "name": "stdout",
          "text": [
            "((TITULO))Extrato de Termo de Aditamento\n",
            "((TEXTO))((NG))2013-0.009.972-7((CL)). OBJETO: Prorrogação Contratual da Escola de Dança de São Paulo, referente aos meses de janeiro a março de 2016. CONTRATANTE:\n",
            "((NG))FTMSP/EDSP((CL)) e CONTRATADO: Sandra Lúcia Gomes; Função: Oficinas Práticas de Dança; Valor Total R$ 14.100,00. Termo de Aditamento nº 021/2016.((TITULO)) DIRETORIA REGIONAL DE EDUCAÇÃO SÃO MATEUS DESPACHO DA DIRETORA REGIONAL\n",
            "((TEXTO))((NG))2014-0.140.779-6\n",
            "((CL)),Centro Social Nossa Senhora do Bom Parto, inscrito no CNPJ: 62.264.494/0001 - 79, aditamento de convênio – CEI Mãe da Esperança. I - À vista dos elementos constantes dos autos, em especial as manifestações da Assistente Técnica de Engenharia, do Setor de Demanda, do Setor de Convênios, do Setor de Contabilidade, da Supervisão Escolar, do Assistente Técnico Jurídico da Diretoria Regional de Educação São Mateus, que acolho e adoto como razões de decidir, \n",
            "((NG))AUTORIZO\n",
            "((CL)), com fundamento nas Portarias SME nº 4.772/15, nº 3.477/2011 e alterações posteriores, o aditamento do Termo de Convênio nº 172/SME/2014-RI, firmado com a entidade convenente denominada “Centro Social Nossa Senhora do Bom Parto”, inscrito no CNPJ sob nº 62.264.494/0001-79, para funcionamento do CEI Mãe da Esperança, objetivando a redução do atendimento no berçário e da capacidade total de atendimento para 240 crianças, na faixa etária de 1 a 3 anos, sendo 45 de berçário e mediante repasse mensal de R$ 114.806,40 e atualização do per capita nos termos da Portaria 3477/11 e alterações posteriores II - O aditamento será formalizado conforme a minuta de fls. 265; III - As despesas decorrentes da presente autorização onerarão a dotação orçamentária nº 16.23.12.365.3010.2.825.3.3.50.39.00.00; IV - A documentação exigida pela Portaria SME nº 3.477/2011 deverá estar em vigor no momento da efetiva celebração do aditamento.((TITULO))INTIMAÇÃO\n",
            "((TEXTO))((NG))2015-0.256.186-3((CL)) - Copatrocino para produção do livro catálogo da exposição Torres Garcia.\n",
            "I - Diante dos elementos constantes deste Processo Administrativo, em especial do parecer contábil de fls. 45/46, com fundamento no artigo 17 do Decreto Municipal nº 51.300/10 e na competência a mim delegada através da Portaria nº 74/10-SMC-G, fica a empresa ((NG))IPSIS GRÁFICA E EDITORA SA((CL)), inscrita no CNPJ sob o nº 61.407.078/0001-10, ((NG))INTIMADA((CL)) a apresentar esclarecimentos e/ou comprovação de regularização das pendências apontadas na prestação de contas referente ao Termo de Copatrocino nº 05/2015 firmado com a Secretaria Municipal de Cultura, no prazo de 30 dias, sob pena de adoção de procedimento visando a aplicação das sanções cabíveis.\n",
            "II - Fica, franqueada, desde já, na Biblioteca Mário de Andrade, vista dos autos para consulta.((TITULO))PENALIDADE\n",
            "((TEXTO))((NG))2015-0.243.381-4((CL)) - Pagamento referente a aquisição de cadeados.\n",
            "I – À vista dos elementos coligidos ao presente, nos termos dos artigos 54 e 57 do Decreto Municipal n° 44.279/03 e o artigo 14 do Decreto Municipal n° 51.194/2010, e na competência a mim delegada pela Portaria nº 40/2005 SMC-G, ((NG))APLICO((CL)) à empresa ((NG))PARADA OBRIGATÓRIA COMÉRCIO E IMPORTAÇÃO DE ELETRÔNICOS LTDA. - ME((CL))., inscrita no CNPJ sob o nº 13.446.995/0001-60, a penalidade de multa de 0,5% (meio por cento), por dia de atraso, sobre o valor dos bens não entregues no prazo, conforme previsto no item “i” do Anexo de Empenho nº 83620/2015, no total de R$ 58,49 (cinquenta e oito reais e quarenta e nove centavos), em decorrência do atraso de 39 (trinta e nove) dias na entrega do material.\n",
            "II – O representante legal da empresa fica ((NG))NOTIFICADO((CL)) para, querendo, apresentar recurso desta decisão no prazo de 05 (cinco) dias úteis, franqueada, desde já, na Diretoria Administrativa da Biblioteca Mário de Andrade, vista dos autos para esse fim.((TITULO))DESPACHO DO DIRETOR REGIONAL DE EDUCAÇÃO-DRE-PE\n",
            "((TEXTO))2014-0.159.895-8-I. À vista dos elementos que instruem o presente, em especial as manifestações dos Setores de Demanda Escolar, Prédios e Equipamentos, Supervisão Escolar, Convênios, Contabilidade, Diretoria de Planejamento e Assessoria Jurídica desta Diretoria Regional de Educação Penha, que acolho, e, com fundamento na Portaria 4.772/2015, ((NG))AUTORIZO((CL)), nos termos na Portaria nº 3.477/2011 e suas alterações posteriores, o aditamento de capacidade do Termo de Convênio nº 195/SME/2014 – RI, com o ((NG))Centro Social Nossa Senhora do Bom Parto((CL)), inscrito no CNPJ nº 62.264.494/0001-79, para atendimento a 175 crianças, na faixa etária de 0 a 03 anos, sendo 53 de berçário, no ((NG))CEI Maria de Belém((CL)), mediante repasse mensal de R$ 91.719,40 (noventa e um mil, setecentos e dezenove reais e quarenta centavos), a partir de 01/02/2016.II. As despesas decorrentes da celebração, ora autorizada, onerarão a dotação orçamentária n16.17.12.365.3010.2825.3.3.50.39.00.00.III-A documentação exigida pela Portaria nº. 3.477/11 deverá estar em vigor no momento da lavratura.\n"
          ]
        }
      ]
    },
    {
      "cell_type": "code",
      "source": [
        "titulo = re.findall(r\"\\(\\(TITULO\\)\\)(.*)\",tudo)\n",
        "print(titulo)"
      ],
      "metadata": {
        "colab": {
          "base_uri": "https://localhost:8080/"
        },
        "id": "ZXwC2sF8nRHv",
        "outputId": "2475acfc-d80a-47c9-b6f3-c4b7fc5b7365"
      },
      "execution_count": 110,
      "outputs": [
        {
          "output_type": "stream",
          "name": "stdout",
          "text": [
            "['Extrato de Termo de Aditamento', ' DIRETORIA REGIONAL DE EDUCAÇÃO SÃO MATEUS DESPACHO DA DIRETORA REGIONAL', 'INTIMAÇÃO', 'PENALIDADE', 'DESPACHO DO DIRETOR REGIONAL DE EDUCAÇÃO-DRE-PE']\n"
          ]
        }
      ]
    },
    {
      "cell_type": "code",
      "source": [
        "code = re.findall(r\"\\(\\([NT][GE][XTO]*\\)\\)(\\d*\\D\\d*\\D\\d*\\D\\d*\\D[\\d*\\(])\",tudo)\n",
        "print(code)"
      ],
      "metadata": {
        "colab": {
          "base_uri": "https://localhost:8080/"
        },
        "id": "x3xrxYe7pPy2",
        "outputId": "85b5b1a5-b3c6-4c0b-fbad-de8f7423c298"
      },
      "execution_count": 111,
      "outputs": [
        {
          "output_type": "stream",
          "name": "stdout",
          "text": [
            "['2013-0.009.972-7', '2014-0.140.779-6', '2015-0.256.186-3', '2015-0.243.381-4', '2014-0.159.895-8']\n"
          ]
        }
      ]
    },
    {
      "cell_type": "code",
      "source": [
        "valor = re.findall(r\"R\\$ [0-9]*\\D[0-9]*\\D[0-9]*\",tudo)\n",
        "print(valor)"
      ],
      "metadata": {
        "colab": {
          "base_uri": "https://localhost:8080/"
        },
        "id": "h_8h71kWpPYH",
        "outputId": "daa1021c-e2c9-4055-8c53-ae3915efef64"
      },
      "execution_count": 113,
      "outputs": [
        {
          "output_type": "stream",
          "name": "stdout",
          "text": [
            "['R$ 14.100,00', 'R$ 114.806,40', 'R$ 58,49 ', 'R$ 91.719,40']\n"
          ]
        }
      ]
    },
    {
      "cell_type": "markdown",
      "source": [
        "# 1ª atividade avaliativa"
      ],
      "metadata": {
        "id": "EzjVF_onRVVN"
      }
    },
    {
      "cell_type": "code",
      "source": [
        "testes5 = pd.read_csv('5examples.csv')"
      ],
      "metadata": {
        "id": "IoxoYLvYQ0l0"
      },
      "execution_count": 9,
      "outputs": []
    },
    {
      "cell_type": "code",
      "source": [
        "testes5"
      ],
      "metadata": {
        "colab": {
          "base_uri": "https://localhost:8080/",
          "height": 354
        },
        "id": "xx-4b2RH62_h",
        "outputId": "2f8c4687-3fd4-4874-ad2d-77fa87bcd9f1"
      },
      "execution_count": 10,
      "outputs": [
        {
          "output_type": "execute_result",
          "data": {
            "text/plain": [
              "               ID                  Data Retranca Tipo do Conteúdo Secretaria  \\\n",
              "0    2016/01/29/0  2016-01-29T00:00:00Z  efmaadm       LICITAÇÕES          -   \n",
              "1   2016/01/29/55  2016-01-29T00:00:00Z  eginadm       LICITAÇÕES   EDUCAÇÃO   \n",
              "2   2016/01/29/59  2016-01-29T00:00:00Z  efhaadm       LICITAÇÕES    CULTURA   \n",
              "3  2016/01/29/178  2016-01-29T00:00:00Z  efhaadm       LICITAÇÕES    CULTURA   \n",
              "4  2016/01/29/169  2016-01-29T00:00:00Z  egigadm       LICITAÇÕES   EDUCAÇÃO   \n",
              "\n",
              "                                          Orgão  \\\n",
              "0                                             -   \n",
              "1  DIRETORIA REGIONAL DE EDUCAÇÃO DE SÃO MATEUS   \n",
              "2             DEPTO BIBLIOTECA MÁRIO DE ANDRADE   \n",
              "3             DEPTO BIBLIOTECA MÁRIO DE ANDRADE   \n",
              "4       DIRETORIA REGIONAL DE EDUCAÇÃO DA PENHA   \n",
              "\n",
              "                                               Texto  \n",
              "0  ((TITULO))Extrato de Termo de Aditamento\\n((TE...  \n",
              "1  ((TITULO)) DIRETORIA REGIONAL DE EDUCAÇÃO SÃO ...  \n",
              "2  ((TITULO))INTIMAÇÃO\\n((TEXTO))((NG))2015-0.256...  \n",
              "3  ((TITULO))PENALIDADE\\n((TEXTO))((NG))2015-0.24...  \n",
              "4  ((TITULO))DESPACHO DO DIRETOR REGIONAL DE EDUC...  "
            ],
            "text/html": [
              "\n",
              "  <div id=\"df-fe7149f5-fbdd-476c-8ea7-a74eb7f6061c\">\n",
              "    <div class=\"colab-df-container\">\n",
              "      <div>\n",
              "<style scoped>\n",
              "    .dataframe tbody tr th:only-of-type {\n",
              "        vertical-align: middle;\n",
              "    }\n",
              "\n",
              "    .dataframe tbody tr th {\n",
              "        vertical-align: top;\n",
              "    }\n",
              "\n",
              "    .dataframe thead th {\n",
              "        text-align: right;\n",
              "    }\n",
              "</style>\n",
              "<table border=\"1\" class=\"dataframe\">\n",
              "  <thead>\n",
              "    <tr style=\"text-align: right;\">\n",
              "      <th></th>\n",
              "      <th>ID</th>\n",
              "      <th>Data</th>\n",
              "      <th>Retranca</th>\n",
              "      <th>Tipo do Conteúdo</th>\n",
              "      <th>Secretaria</th>\n",
              "      <th>Orgão</th>\n",
              "      <th>Texto</th>\n",
              "    </tr>\n",
              "  </thead>\n",
              "  <tbody>\n",
              "    <tr>\n",
              "      <th>0</th>\n",
              "      <td>2016/01/29/0</td>\n",
              "      <td>2016-01-29T00:00:00Z</td>\n",
              "      <td>efmaadm</td>\n",
              "      <td>LICITAÇÕES</td>\n",
              "      <td>-</td>\n",
              "      <td>-</td>\n",
              "      <td>((TITULO))Extrato de Termo de Aditamento\\n((TE...</td>\n",
              "    </tr>\n",
              "    <tr>\n",
              "      <th>1</th>\n",
              "      <td>2016/01/29/55</td>\n",
              "      <td>2016-01-29T00:00:00Z</td>\n",
              "      <td>eginadm</td>\n",
              "      <td>LICITAÇÕES</td>\n",
              "      <td>EDUCAÇÃO</td>\n",
              "      <td>DIRETORIA REGIONAL DE EDUCAÇÃO DE SÃO MATEUS</td>\n",
              "      <td>((TITULO)) DIRETORIA REGIONAL DE EDUCAÇÃO SÃO ...</td>\n",
              "    </tr>\n",
              "    <tr>\n",
              "      <th>2</th>\n",
              "      <td>2016/01/29/59</td>\n",
              "      <td>2016-01-29T00:00:00Z</td>\n",
              "      <td>efhaadm</td>\n",
              "      <td>LICITAÇÕES</td>\n",
              "      <td>CULTURA</td>\n",
              "      <td>DEPTO BIBLIOTECA MÁRIO DE ANDRADE</td>\n",
              "      <td>((TITULO))INTIMAÇÃO\\n((TEXTO))((NG))2015-0.256...</td>\n",
              "    </tr>\n",
              "    <tr>\n",
              "      <th>3</th>\n",
              "      <td>2016/01/29/178</td>\n",
              "      <td>2016-01-29T00:00:00Z</td>\n",
              "      <td>efhaadm</td>\n",
              "      <td>LICITAÇÕES</td>\n",
              "      <td>CULTURA</td>\n",
              "      <td>DEPTO BIBLIOTECA MÁRIO DE ANDRADE</td>\n",
              "      <td>((TITULO))PENALIDADE\\n((TEXTO))((NG))2015-0.24...</td>\n",
              "    </tr>\n",
              "    <tr>\n",
              "      <th>4</th>\n",
              "      <td>2016/01/29/169</td>\n",
              "      <td>2016-01-29T00:00:00Z</td>\n",
              "      <td>egigadm</td>\n",
              "      <td>LICITAÇÕES</td>\n",
              "      <td>EDUCAÇÃO</td>\n",
              "      <td>DIRETORIA REGIONAL DE EDUCAÇÃO DA PENHA</td>\n",
              "      <td>((TITULO))DESPACHO DO DIRETOR REGIONAL DE EDUC...</td>\n",
              "    </tr>\n",
              "  </tbody>\n",
              "</table>\n",
              "</div>\n",
              "      <button class=\"colab-df-convert\" onclick=\"convertToInteractive('df-fe7149f5-fbdd-476c-8ea7-a74eb7f6061c')\"\n",
              "              title=\"Convert this dataframe to an interactive table.\"\n",
              "              style=\"display:none;\">\n",
              "        \n",
              "  <svg xmlns=\"http://www.w3.org/2000/svg\" height=\"24px\"viewBox=\"0 0 24 24\"\n",
              "       width=\"24px\">\n",
              "    <path d=\"M0 0h24v24H0V0z\" fill=\"none\"/>\n",
              "    <path d=\"M18.56 5.44l.94 2.06.94-2.06 2.06-.94-2.06-.94-.94-2.06-.94 2.06-2.06.94zm-11 1L8.5 8.5l.94-2.06 2.06-.94-2.06-.94L8.5 2.5l-.94 2.06-2.06.94zm10 10l.94 2.06.94-2.06 2.06-.94-2.06-.94-.94-2.06-.94 2.06-2.06.94z\"/><path d=\"M17.41 7.96l-1.37-1.37c-.4-.4-.92-.59-1.43-.59-.52 0-1.04.2-1.43.59L10.3 9.45l-7.72 7.72c-.78.78-.78 2.05 0 2.83L4 21.41c.39.39.9.59 1.41.59.51 0 1.02-.2 1.41-.59l7.78-7.78 2.81-2.81c.8-.78.8-2.07 0-2.86zM5.41 20L4 18.59l7.72-7.72 1.47 1.35L5.41 20z\"/>\n",
              "  </svg>\n",
              "      </button>\n",
              "      \n",
              "  <style>\n",
              "    .colab-df-container {\n",
              "      display:flex;\n",
              "      flex-wrap:wrap;\n",
              "      gap: 12px;\n",
              "    }\n",
              "\n",
              "    .colab-df-convert {\n",
              "      background-color: #E8F0FE;\n",
              "      border: none;\n",
              "      border-radius: 50%;\n",
              "      cursor: pointer;\n",
              "      display: none;\n",
              "      fill: #1967D2;\n",
              "      height: 32px;\n",
              "      padding: 0 0 0 0;\n",
              "      width: 32px;\n",
              "    }\n",
              "\n",
              "    .colab-df-convert:hover {\n",
              "      background-color: #E2EBFA;\n",
              "      box-shadow: 0px 1px 2px rgba(60, 64, 67, 0.3), 0px 1px 3px 1px rgba(60, 64, 67, 0.15);\n",
              "      fill: #174EA6;\n",
              "    }\n",
              "\n",
              "    [theme=dark] .colab-df-convert {\n",
              "      background-color: #3B4455;\n",
              "      fill: #D2E3FC;\n",
              "    }\n",
              "\n",
              "    [theme=dark] .colab-df-convert:hover {\n",
              "      background-color: #434B5C;\n",
              "      box-shadow: 0px 1px 3px 1px rgba(0, 0, 0, 0.15);\n",
              "      filter: drop-shadow(0px 1px 2px rgba(0, 0, 0, 0.3));\n",
              "      fill: #FFFFFF;\n",
              "    }\n",
              "  </style>\n",
              "\n",
              "      <script>\n",
              "        const buttonEl =\n",
              "          document.querySelector('#df-fe7149f5-fbdd-476c-8ea7-a74eb7f6061c button.colab-df-convert');\n",
              "        buttonEl.style.display =\n",
              "          google.colab.kernel.accessAllowed ? 'block' : 'none';\n",
              "\n",
              "        async function convertToInteractive(key) {\n",
              "          const element = document.querySelector('#df-fe7149f5-fbdd-476c-8ea7-a74eb7f6061c');\n",
              "          const dataTable =\n",
              "            await google.colab.kernel.invokeFunction('convertToInteractive',\n",
              "                                                     [key], {});\n",
              "          if (!dataTable) return;\n",
              "\n",
              "          const docLinkHtml = 'Like what you see? Visit the ' +\n",
              "            '<a target=\"_blank\" href=https://colab.research.google.com/notebooks/data_table.ipynb>data table notebook</a>'\n",
              "            + ' to learn more about interactive tables.';\n",
              "          element.innerHTML = '';\n",
              "          dataTable['output_type'] = 'display_data';\n",
              "          await google.colab.output.renderOutput(dataTable, element);\n",
              "          const docLink = document.createElement('div');\n",
              "          docLink.innerHTML = docLinkHtml;\n",
              "          element.appendChild(docLink);\n",
              "        }\n",
              "      </script>\n",
              "    </div>\n",
              "  </div>\n",
              "  "
            ]
          },
          "metadata": {},
          "execution_count": 10
        }
      ]
    },
    {
      "cell_type": "code",
      "source": [
        "tarefa1 = testes5['Texto']"
      ],
      "metadata": {
        "id": "jZsY7zbEIFiS"
      },
      "execution_count": 11,
      "outputs": []
    }
  ]
}